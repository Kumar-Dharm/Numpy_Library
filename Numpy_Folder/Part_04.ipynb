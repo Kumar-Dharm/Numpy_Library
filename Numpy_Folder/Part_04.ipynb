{
 "cells": [
  {
   "cell_type": "markdown",
   "id": "809270e2",
   "metadata": {},
   "source": [
    "### Numpy lec-08: Shape and Reshape in Numpy Array"
   ]
  },
  {
   "cell_type": "code",
   "execution_count": 1,
   "id": "97543421",
   "metadata": {},
   "outputs": [],
   "source": [
    "import numpy as np"
   ]
  },
  {
   "cell_type": "code",
   "execution_count": 3,
   "id": "da2e7d12",
   "metadata": {},
   "outputs": [
    {
     "name": "stdout",
     "output_type": "stream",
     "text": [
      "[1 2 3] shape: (3,) dimendion: 1\n",
      "[[1 2 3]\n",
      " [3 4 5]] shape: (2, 3) dimendion: 2\n",
      "[[[1 2 3]\n",
      "  [3 4 5]]\n",
      "\n",
      " [[2 3 4]\n",
      "  [4 5 6]]\n",
      "\n",
      " [[3 4 5]\n",
      "  [5 6 7]]] shape: (3, 2, 3) dimendion: 3\n"
     ]
    }
   ],
   "source": [
    "# Shape in Numpy array  -it gives shape type of an array in tuple, in string format, specifying the length\n",
    "    '# syntax: np.shape(arr_name)\n",
    "\n",
    "arr1=np.array([1,2,3])\n",
    "arr2=np.array([[1,2,3],\n",
    "               [3,4,5]])\n",
    "arr3=np.array([[[1,2,3],[3,4,5]],\n",
    "               [[2,3,4],[4,5,6]],\n",
    "               [[3,4,5],[5,6,7]]])\n",
    "print(arr1,'shape:',np.shape(arr1),'dimendion:',arr1.ndim)      \n",
    "print(arr2,'shape:',np.shape(arr2),'dimendion:',arr2.ndim)\n",
    "print(arr3,'shape:',np.shape(arr3),'dimendion:',arr3.ndim)"
   ]
  },
  {
   "cell_type": "code",
   "execution_count": 4,
   "id": "470cc400",
   "metadata": {},
   "outputs": [
    {
     "name": "stdout",
     "output_type": "stream",
     "text": [
      "[[[[1 2 3 4]]]] shape: (1, 1, 1, 4) dimension: 4\n",
      ".............\n",
      "[[1 2]\n",
      " [3 4]] shape: (2, 2) dimension: 2\n"
     ]
    }
   ],
   "source": [
    "# NOTE: \n",
    "# to check dimension                      -use: arr_name.ndim\n",
    "# to get/have dimension                   -use: ndmin=n                    eg.-1,2,3,4...\n",
    "# to check shape of an array              -use: np.shape(arr_name)  \n",
    "# to change/reshape the shape of an array -use: array_name.reshape(shape)  eg.-(l,m,n,.....)\n",
    "\n",
    "arr=np.array([1,2,3,4],ndmin=4)\n",
    "print(arr,'shape:',np.shape(arr),'dimension:',arr.ndim)\n",
    "\n",
    "print('.............')\n",
    "\n",
    "arr=np.array([1,2,3,4],ndmin=4).reshape(2,2)\n",
    "print(arr,'shape:',np.shape(arr),'dimension:',arr.ndim)"
   ]
  },
  {
   "cell_type": "code",
   "execution_count": null,
   "id": "861ceb25",
   "metadata": {},
   "outputs": [],
   "source": [
    "# Reshape the Numpy array     -returns an array containing the same data with a new shape\n",
    "    '# syntax: arr_name.reshape(shape, order='C')\n",
    "\n",
    "# Note: \n",
    "- take care of num of elements while reshaping an array\n",
    "- we can even change the dimension of an array while reshaping\n",
    "- eg. (3,3,4) -it means we get 3-row, 3-row and 4-column/elements"
   ]
  },
  {
   "cell_type": "code",
   "execution_count": 5,
   "id": "a9eb486f",
   "metadata": {},
   "outputs": [
    {
     "name": "stdout",
     "output_type": "stream",
     "text": [
      "[[1 2 3]\n",
      " [4 5 6]] shape: (2, 3) dimension: 2\n",
      "[[1 2]\n",
      " [3 4]\n",
      " [5 6]] shape: (3, 2) dimension: 2\n"
     ]
    }
   ],
   "source": [
    "# 1D array\n",
    "arr1=np.array([1,2,3,4,5,6])\n",
    "x=arr1.reshape(2,3)\n",
    "print(x,'shape:',np.shape(x),'dimension:',x.ndim)\n",
    "\n",
    "# is same as\n",
    "arr1=np.array([1,2,3,4,5,6]).reshape(3,2)\n",
    "print(arr1,'shape:',np.shape(arr1),'dimension:',arr1.ndim)"
   ]
  },
  {
   "cell_type": "code",
   "execution_count": 6,
   "id": "01960376",
   "metadata": {},
   "outputs": [
    {
     "name": "stdout",
     "output_type": "stream",
     "text": [
      "[[1 2]\n",
      " [3 3]\n",
      " [4 5]] shape: (3, 2) dimension: 2\n",
      "[[1 2 3]\n",
      " [3 4 5]] shape: (2, 3) dimension: 2\n"
     ]
    }
   ],
   "source": [
    "# 2D array\n",
    "arr2=np.array([[1,2,3],\n",
    "               [3,4,5]])\n",
    "x=arr2.reshape(3,2)\n",
    "print(x,'shape:',np.shape(x),'dimension:',x.ndim)\n",
    "\n",
    "# is same as\n",
    "arr2=np.array([[1,2,3],\n",
    "               [3,4,5]]).reshape(2,3)\n",
    "print(arr2,'shape:',np.shape(arr2),'dimension:',arr2.ndim)"
   ]
  },
  {
   "cell_type": "code",
   "execution_count": 7,
   "id": "901e8f8e",
   "metadata": {},
   "outputs": [
    {
     "name": "stdout",
     "output_type": "stream",
     "text": [
      "[[[1 2 3]\n",
      "  [3 4 5]\n",
      "  [2 3 4]]\n",
      "\n",
      " [[4 5 6]\n",
      "  [3 4 5]\n",
      "  [5 6 7]]] shape: (2, 3, 3) dimension: 3\n",
      "[[[1 2 3]\n",
      "  [3 4 5]]\n",
      "\n",
      " [[2 3 4]\n",
      "  [4 5 6]]\n",
      "\n",
      " [[3 4 5]\n",
      "  [5 6 7]]] shape: (3, 2, 3) dimension: 3\n"
     ]
    }
   ],
   "source": [
    "# 3D array\n",
    "arr3=np.array([[[1,2,3],[3,4,5]],\n",
    "               [[2,3,4],[4,5,6]],\n",
    "               [[3,4,5],[5,6,7]]])\n",
    "x=arr3.reshape(2,3,3)\n",
    "print(x,'shape:',np.shape(x),'dimension:',x.ndim)\n",
    "\n",
    "# is same as\n",
    "arr3=np.array([[[1,2,3],[3,4,5]],\n",
    "               [[2,3,4],[4,5,6]],\n",
    "               [[3,4,5],[5,6,7]]]).reshape(3,2,3)\n",
    "print(arr3,'shape:',np.shape(arr3),'dimension:',arr3.ndim)\n"
   ]
  },
  {
   "cell_type": "code",
   "execution_count": 8,
   "id": "31785d73",
   "metadata": {},
   "outputs": [
    {
     "name": "stdout",
     "output_type": "stream",
     "text": [
      "[1 2 3 3 4 5 2 3 4 4 5 6 3 4 5 5 6 7] dimension: (3, 2, 3) dimension: 1\n"
     ]
    }
   ],
   "source": [
    "# Note: Remember this for converting any array into 1D array using reshape\n",
    "\n",
    "arr3=np.array([[[1,2,3],[3,4,5]],\n",
    "               [[2,3,4],[4,5,6]],\n",
    "               [[3,4,5],[5,6,7]]])\n",
    "x=arr3.reshape(-1)\n",
    "print(x,'dimension:',np.shape(arr3),'dimension:',x.ndim)"
   ]
  },
  {
   "cell_type": "markdown",
   "id": "30e79d85",
   "metadata": {},
   "source": [
    "### Numpy lec-09: Broadcasting Numpy Array"
   ]
  },
  {
   "cell_type": "code",
   "execution_count": null,
   "id": "1c12450b",
   "metadata": {},
   "outputs": [],
   "source": [
    "# Broadcasting in Numpy array   -for arithmetic array operations\n",
    "- either same dimension\n",
    "- or compare shape from right side '(should must have atleast min 1 in any one)\n",
    "\n",
    "    eg. (1*3)+(3*1)=(3*3)   -we get (3*3)matrix/array "
   ]
  },
  {
   "cell_type": "code",
   "execution_count": 9,
   "id": "3c8b05f1",
   "metadata": {},
   "outputs": [
    {
     "name": "stdout",
     "output_type": "stream",
     "text": [
      "[[3 4 5]] shape: (1, 3) dimension: 2\n",
      "[[1]\n",
      " [2]\n",
      " [3]] shape: (3, 1) dimension: 2\n",
      "Add\n",
      " [[4 5 6]\n",
      " [5 6 7]\n",
      " [6 7 8]] shape: (3, 3) dimension: 2\n",
      "Substract\n",
      " [[2 3 4]\n",
      " [1 2 3]\n",
      " [0 1 2]]\n",
      "Multiply\n",
      " [[ 3  4  5]\n",
      " [ 6  8 10]\n",
      " [ 9 12 15]]\n",
      "Divide\n",
      " [[3.         4.         5.        ]\n",
      " [1.5        2.         2.5       ]\n",
      " [1.         1.33333333 1.66666667]]\n",
      "Floor div\n",
      " [[3 4 5]\n",
      " [1 2 2]\n",
      " [1 1 1]]\n",
      "Modulo\n",
      " [[0 0 0]\n",
      " [1 0 1]\n",
      " [0 1 2]]\n",
      "Power\n",
      " [[  3   4   5]\n",
      " [  9  16  25]\n",
      " [ 27  64 125]]\n"
     ]
    }
   ],
   "source": [
    "# lets try this\n",
    "arr1=np.array([3,4,5]).reshape(1,3)\n",
    "arr2=np.array([1,2,3]).reshape(3,1)\n",
    "\n",
    "print(arr1,'shape:',np.shape(arr1),'dimension:',arr1.ndim)\n",
    "print(arr2,'shape:',np.shape(arr2),'dimension:',arr2.ndim)\n",
    "\n",
    "arr=arr1+arr2\n",
    "print('Add\\n',arr,'shape:',np.shape(arr),'dimension:',arr.ndim)\n",
    "\n",
    "print('Substract\\n',arr1-arr2)\n",
    "print('Multiply\\n',arr1*arr2)\n",
    "print('Divide\\n',arr1/arr2)\n",
    "print('Floor div\\n',arr1//arr2)\n",
    "print('Modulo\\n',arr1%arr2)\n",
    "print('Power\\n',arr1**arr2)"
   ]
  },
  {
   "cell_type": "markdown",
   "id": "1bf0aac1",
   "metadata": {},
   "source": [
    "### Numpy lec-10: Indexing and Slicing"
   ]
  },
  {
   "cell_type": "code",
   "execution_count": null,
   "id": "98b87ed6",
   "metadata": {},
   "outputs": [],
   "source": [
    "# Indexing in Numpy array   -address of an element\n",
    "    '# syntax: arr_name([i][j][k]...)  or arr_name([i,j,k,...])\n",
    "\n",
    "# 1D array\n",
    "  0 1 2 3 4 5  -> indexing\n",
    " [9 8 7 6 5 4]\n",
    " -6-5-4-3-2-1   -> reverse indexing\n",
    "    \n",
    "# 2D array\n",
    "- element address   2D array indexing\n",
    "    0  1  2           0 1 2 3    -> indexing\n",
    "0  00 01 02       0 [[9 8 7 6]  -4\n",
    "1  10 11 12       1  [8 7 6 5]  -3\n",
    "2  20 21 22       2  [7 6 5 4]  -2\n",
    "3  30 31 32       3  [6 5 4 3]] -1\n",
    "                     -4-3-2-1    -> reverse indexing\n",
    "# 3D array\n",
    "             C1  C2  C3            0  1  2       -> indexing\n",
    "R1(0) R1(0) 000 001 002    0 0 [[[11 12 13]   -3 -3   \n",
    "      R2(1) 010 011 012      1   [14 15 16]      -2\n",
    "      R3(2) 020 021 022      2   [17 18 19]]     -1\n",
    "                               \n",
    "R2(1) R1(0) 100 101 102    1 0  [[20 21 22]   -2 -3\n",
    "      R2(1) 110 111 112      1   [23 24 25]      -2\n",
    "      R3(2) 120 121 122      2   [26 27 28]]     -1\n",
    "\n",
    "R3(2) R1(0) 200 201 202    2 0  [[29 30 31]   -1 -3\n",
    "      R2(1) 210 211 212      1   [32 33 34]      -2\n",
    "      R3(2) 220 221 222      2   [35 36 37]]]    -1\n",
    "                                  -3 -2 -1      -> reverse indexing"
   ]
  },
  {
   "cell_type": "code",
   "execution_count": 10,
   "id": "dfeb142b",
   "metadata": {},
   "outputs": [
    {
     "name": "stdout",
     "output_type": "stream",
     "text": [
      "8\n",
      "6\n"
     ]
    }
   ],
   "source": [
    "# lets try this \n",
    "# 1D array indexing\n",
    "arr1=np.array([9,8,7,6])\n",
    "print(arr1[1])    # to get 8\n",
    "print(arr1[-1])   # to get 6"
   ]
  },
  {
   "cell_type": "code",
   "execution_count": 11,
   "id": "ec7a26a5",
   "metadata": {},
   "outputs": [
    {
     "name": "stdout",
     "output_type": "stream",
     "text": [
      "8\n",
      "[9 8 7]\n",
      "8\n",
      "6\n"
     ]
    }
   ],
   "source": [
    "# 2D array indexing\n",
    "arr2=np.array([[9,8,7],\n",
    "               [4,5,6]])\n",
    "print(arr2[0][1])   # to get 8\n",
    "print(arr2[0])      # to get [9 8 7]\n",
    "print(arr2[0,1])    # to get 8\n",
    "print(arr2[1,-1])   # to get 6"
   ]
  },
  {
   "cell_type": "code",
   "execution_count": 12,
   "id": "c1dae8cc",
   "metadata": {},
   "outputs": [
    {
     "name": "stdout",
     "output_type": "stream",
     "text": [
      "8\n",
      "[[9 8 7]\n",
      " [6 4 5]\n",
      " [2 3 1]]\n",
      "[6 4 5]\n",
      "8\n",
      "4\n",
      "1\n"
     ]
    }
   ],
   "source": [
    "# 3D array indexing\n",
    "arr3=np.array([[[9,8,7],\n",
    "                [6,4,5],\n",
    "                [2,3,1]]])\n",
    "\n",
    "print(arr3[0][0][1])     # to get 8\n",
    "print(arr3[0])\n",
    "print(arr3[0,1])         # to get [6 4 5]\n",
    "print(arr3[0,0,1])       # to get 8\n",
    "print(arr3[0,1,1])       # to get 4\n",
    "print(arr3[-1,-1,-1])    # to get 1"
   ]
  },
  {
   "cell_type": "code",
   "execution_count": null,
   "id": "635208cd",
   "metadata": {},
   "outputs": [],
   "source": [
    "# Slicing in Numpy array  -printing parts of an array\n",
    "- slicing is done by index number of the elements\n",
    "- for slicing >1D array it is done by dimension wise\n",
    "    '# syntax: arr_name[start:stop:step, start:stop:step, start:stop:step,............]\n",
    "    '# syntax: arr_name[start:stop:step][start:stop:step][start:stop:step][............]\n",
    "    "
   ]
  },
  {
   "cell_type": "code",
   "execution_count": 13,
   "id": "007fdeeb",
   "metadata": {},
   "outputs": [
    {
     "name": "stdout",
     "output_type": "stream",
     "text": [
      "All: [9 8 7 6 5 4 3 2 1]\n",
      "All: [9 8 7 6 5 4 3 2 1]\n",
      "Till 4: [9 8 7 6 5 4]\n",
      "8 to 3: [8 7 6 5 4 3]\n",
      "5 to last: [5 4 3 2 1]\n",
      ".............\n",
      "Reverse: [1 2 3 4 5 6 7 8 9]\n",
      "Reverse: [1 2 3 4 5 6 7 8 9]\n",
      "Till 2nd last: [9 8 7 6 5 4 3 2]\n",
      ".............\n",
      "Alternate: [9 7 5 3 1]\n",
      "Alternate: [8 6 4]\n",
      "Alternate: [1 3 5 7 9]\n"
     ]
    }
   ],
   "source": [
    "# lets try this\n",
    "# 1D array slicing\n",
    "arr1=np.array([9,8,7,6,5,4,3,2,1])\n",
    "            #  0 1 2 3 4 5 6 7 8 \n",
    "print('All:',arr1)\n",
    "print('All:',arr1[:])\n",
    "print('Till 4:',arr1[:6])         # initial slicing\n",
    "print('8 to 3:',arr1[1:7])        # mid slicing\n",
    "print('5 to last:',arr1[4:])      # end slicing\n",
    "print('.............')\n",
    "print('Reverse:',arr1[-1::-1])    # reverse iteration\n",
    "print('Reverse:',arr1[::-1])\n",
    "print('Till 2nd last:',arr1[:-1:])\n",
    "print('.............')\n",
    "print('Alternate:',arr1[::2])     # use of step\n",
    "print('Alternate:',arr1[1:7:2])\n",
    "print('Alternate:',arr1[::-2])    # reverse stepping"
   ]
  },
  {
   "cell_type": "code",
   "execution_count": 14,
   "id": "6b8d3520",
   "metadata": {},
   "outputs": [
    {
     "name": "stdout",
     "output_type": "stream",
     "text": [
      "shape: (3, 4) dimension: 2\n",
      "five: 5\n",
      "[[9 8 7 6]\n",
      " [4 5 6 7]\n",
      " [0 1 3 2]]\n",
      "..........\n",
      "1st row: [9 8 7 6]\n",
      "2nd column: [8 5 1]\n",
      "mid element: [[5 6]]\n",
      "outer element: [9 8 7 6] [0 1 3 2] [9 4 0] [6 7 2]\n",
      ".........\n",
      "2\n",
      "[0 1 3 2]\n",
      "[6 7 2]\n",
      "[[2 3 1 0]\n",
      " [7 6 5 4]\n",
      " [6 7 8 9]]\n"
     ]
    }
   ],
   "source": [
    "# 2D array slicing\n",
    "arr2=np.array([[9,8,7,6],\n",
    "               [4,5,6,7],\n",
    "               [0,1,3,2]])\n",
    "print('shape:',arr2.shape,'dimension:',np.ndim(arr2))\n",
    "\n",
    "print('five:',arr2[1,1])\n",
    "print(arr2[::,::])\n",
    "print('..........')\n",
    "print('1st row:',arr2[0])\n",
    "print('2nd column:',arr2[:,1])\n",
    "print('mid element:',arr2[1:2,1:3])\n",
    "print('outer element:',arr2[0],arr2[2],arr2[:,0],arr2[:,3])\n",
    "print('.........')\n",
    "print(arr2[-1,-1])        # reverse\n",
    "print(arr2[-1])\n",
    "print(arr2[:,-1])\n",
    "print(arr2[::-1,::-1])"
   ]
  },
  {
   "cell_type": "code",
   "execution_count": 15,
   "id": "cb292f29",
   "metadata": {},
   "outputs": [
    {
     "name": "stdout",
     "output_type": "stream",
     "text": [
      "shape: (3, 3, 3) dimension: 3\n",
      "[[[11 12 13]\n",
      "  [14 15 16]\n",
      "  [17 18 19]]\n",
      "\n",
      " [[20 21 22]\n",
      "  [23 24 25]\n",
      "  [26 27 28]]\n",
      "\n",
      " [[29 30 31]\n",
      "  [32 33 34]\n",
      "  [35 36 37]]]\n"
     ]
    }
   ],
   "source": [
    "# 3D array slicing\n",
    "arr3=np.arange(11,38).reshape(3,3,3)\n",
    "\n",
    "print('shape:',arr3.shape,'dimension:',np.ndim(arr3))\n",
    "print(arr3[::,::,::])\n",
    "\n",
    "# NOTE: arr3[::][::][::] or arr3[::,::,::] or arr3[:,:,:]  -these are the same"
   ]
  },
  {
   "cell_type": "code",
   "execution_count": 16,
   "id": "81461cb3",
   "metadata": {
    "scrolled": true
   },
   "outputs": [
    {
     "name": "stdout",
     "output_type": "stream",
     "text": [
      "[[20 21 22]\n",
      " [23 24 25]\n",
      " [26 27 28]]\n",
      "[[14 15 16]\n",
      " [23 24 25]\n",
      " [32 33 34]]\n",
      "[[12 15 18]\n",
      " [21 24 27]\n",
      " [30 33 36]]\n"
     ]
    }
   ],
   "source": [
    "arr3=np.arange(11,38).reshape(3,3,3)\n",
    "\n",
    "print(arr3[1,:,:])\n",
    "print(arr3[:,1,:])\n",
    "print(arr3[:,:,1])"
   ]
  },
  {
   "cell_type": "code",
   "execution_count": 17,
   "id": "22d1c043",
   "metadata": {},
   "outputs": [
    {
     "name": "stdout",
     "output_type": "stream",
     "text": [
      "[[[11 12 13]\n",
      "  [14 15 16]\n",
      "  [17 18 19]]\n",
      "\n",
      " [[20 21 22]\n",
      "  [23 24 25]\n",
      "  [26 27 28]]\n",
      "\n",
      " [[29 30 31]\n",
      "  [32 33 34]\n",
      "  [35 36 37]]]\n",
      "11\n",
      "11 24 37\n"
     ]
    }
   ],
   "source": [
    "arr3=np.arange(11,38).reshape(3,3,3)\n",
    "\n",
    "print(arr3)\n",
    "print(arr3[0,0,0])                           # access 1st most element\n",
    "print(arr3[0,0,0],arr3[1,1,1],arr3[2,2,2])   # accessing diagonal elements"
   ]
  },
  {
   "cell_type": "code",
   "execution_count": 18,
   "id": "5e7cc73a",
   "metadata": {},
   "outputs": [
    {
     "name": "stdout",
     "output_type": "stream",
     "text": [
      "[11 12 13]\n",
      "[23 24 25]\n",
      "[35 36 37]\n",
      "middle most: 24\n",
      "[[20 21 22]\n",
      " [23 24 25]\n",
      " [26 27 28]]\n",
      "[[14 15 16]\n",
      " [23 24 25]\n",
      " [32 33 34]]\n",
      "middle list: [23 24 25]\n",
      "[16 16 16]\n"
     ]
    }
   ],
   "source": [
    "arr3=np.array([[[11,12,13],[14,15,16],[17,18,19]],                   \n",
    "               [[20,21,22],[23,24,25],[26,27,28]],\n",
    "               [[29,30,31],[32,33,34],[35,36,37]]])\n",
    "\n",
    "print(arr3[0,0,:])\n",
    "print(arr3[1,1,:])\n",
    "print(arr3[2,2,:])\n",
    "print('middle most:',arr3[1,1,1])\n",
    "print(arr3[1,:,:])                   # access horizontal middle column\n",
    "print(arr3[:,1,:])                   # access vertical middle column\n",
    "print('middle list:',arr3[1,1,:])    \n",
    "\n",
    "print(arr3[(0,0,0),(1,1,1),(2,2,2)])                        # ---ask? what it means---"
   ]
  },
  {
   "cell_type": "code",
   "execution_count": null,
   "id": "0f1c2b13",
   "metadata": {},
   "outputs": [],
   "source": []
  },
  {
   "cell_type": "code",
   "execution_count": null,
   "id": "668ba474",
   "metadata": {},
   "outputs": [],
   "source": []
  }
 ],
 "metadata": {
  "kernelspec": {
   "display_name": "Python 3 (ipykernel)",
   "language": "python",
   "name": "python3"
  },
  "language_info": {
   "codemirror_mode": {
    "name": "ipython",
    "version": 3
   },
   "file_extension": ".py",
   "mimetype": "text/x-python",
   "name": "python",
   "nbconvert_exporter": "python",
   "pygments_lexer": "ipython3",
   "version": "3.10.8"
  }
 },
 "nbformat": 4,
 "nbformat_minor": 5
}
