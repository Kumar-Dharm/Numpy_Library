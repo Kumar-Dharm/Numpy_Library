{
 "cells": [
  {
   "cell_type": "code",
   "execution_count": null,
   "id": "9b1bc220",
   "metadata": {},
   "outputs": [],
   "source": [
    "# Index\n",
    "P1Lec-01: Introduction\n",
    "    P2Lec-02: Array types, Dimension & Creation\n",
    "    P2Lec-03: Special array\n",
    "    P2Lec-04: Random function\n",
    "P3Lec-05: Data types in Numpy array\n",
    "P3Lec-06: Arithmetic operations in Numpy\n",
    "P3Lec-07: Arithmetic Functions in Numpy\n",
    "    P4Lec-08: Shape and Reshape in Numpy array\n",
    "    P4Lec-09: Broadcasting Numpy array\n",
    "    P4Lec-10: Indexing and Slicing\n",
    "P5Lec-11: Iterating Numpy Arrays\n",
    "P5Lec-12: Copy vs View in Numpy Arrays\n",
    "P5Lec-13: Join & Split in Numpy Arrays\n",
    "    P6Lec-14: Numpy Arrays Functions -I\n",
    "    P6Lec-15: Numpy Arrays Functions -II\n",
    "    P6Lec-16: Insert & Delete Functions Numpy Arrays\n",
    "P7Lec-17: Concept of Matrices in Numpy Arrays"
   ]
  },
  {
   "cell_type": "code",
   "execution_count": null,
   "id": "9d2cd303",
   "metadata": {},
   "outputs": [],
   "source": [
    "# Note: general syntax for library\n",
    "pip install library_name      - for installation of library\n",
    "library_name.__version__      - to check version of library\n",
    "pip show library_name         - to get all details of library\n",
    "import library_name as alias  - to import library"
   ]
  },
  {
   "cell_type": "markdown",
   "id": "aad02fcd",
   "metadata": {},
   "source": [
    "### Numpy lec-01: Introduction"
   ]
  },
  {
   "cell_type": "code",
   "execution_count": null,
   "id": "e301614b",
   "metadata": {},
   "outputs": [],
   "source": [
    "1. what is NumPy\n",
    "2. What is NumPy Array\n",
    "3. NumPy vs Python list\n",
    "4. Installation and Import NumPy\n",
    "5. Importance of NumPy in Python\n",
    "6. code execution time"
   ]
  },
  {
   "cell_type": "code",
   "execution_count": null,
   "id": "f10240de",
   "metadata": {},
   "outputs": [],
   "source": [
    "# 1. what is NumPy\n",
    "- it is fundamental package for scientific computing in python\n",
    "- it is python library that provides a multi-dimensional array object, and various derived objects\n",
    "\n",
    "# 2. What is NumPy Array\n",
    "- array is a grid of values\n",
    "- it contains information about the raw data, how to locate and interpret the elements\n",
    "- Types:\n",
    "    1D array (l)\n",
    "        arr=list(map(int,input().split()))\n",
    "    2D array (m*n)-rows*columns\n",
    "        arr=[[for j in range(n)] for i in range(m)]\n",
    "    3D array (l*m*n)-Len*Bre*Hei\n",
    "        arr=[[[for k in range(n)] for j in range(m)] for i in range(l)]"
   ]
  },
  {
   "cell_type": "code",
   "execution_count": 1,
   "id": "08f9885b",
   "metadata": {},
   "outputs": [
    {
     "name": "stdout",
     "output_type": "stream",
     "text": [
      "5\n",
      "0 1 2 3 4 \n"
     ]
    }
   ],
   "source": [
    "# 1D array\n",
    "l=int(input())\n",
    "for i in range(l):\n",
    "    print(i,sep=\"\",end=\" \")\n",
    "print()"
   ]
  },
  {
   "cell_type": "code",
   "execution_count": 2,
   "id": "bd766d1e",
   "metadata": {},
   "outputs": [
    {
     "name": "stdout",
     "output_type": "stream",
     "text": [
      "3 3\n",
      "00 01 02 \n",
      "10 11 12 \n",
      "20 21 22 \n"
     ]
    }
   ],
   "source": [
    "# 2D array\n",
    "m,n=map(int,input().split())\n",
    "for i in range(m):\n",
    "    for j in range(n):\n",
    "        print(i,j,sep=\"\",end=\" \")\n",
    "    print()"
   ]
  },
  {
   "cell_type": "code",
   "execution_count": 3,
   "id": "fbc0d183",
   "metadata": {},
   "outputs": [
    {
     "name": "stdout",
     "output_type": "stream",
     "text": [
      "2 3 4\n",
      "000 001 002 003 \n",
      "010 011 012 013 \n",
      "020 021 022 023 \n",
      "\n",
      "100 101 102 103 \n",
      "110 111 112 113 \n",
      "120 121 122 123 \n",
      "\n"
     ]
    }
   ],
   "source": [
    "# 3D array\n",
    "l,m,n=map(int,input().split())\n",
    "for i in range(l):\n",
    "    for j in range(m):\n",
    "        for k in range(n):\n",
    "            print(i,j,k,sep=\"\",end=\" \")\n",
    "        print()\n",
    "    print()"
   ]
  },
  {
   "cell_type": "code",
   "execution_count": null,
   "id": "d159f646",
   "metadata": {},
   "outputs": [],
   "source": [
    "# 3. NumPy array vs Python list\n",
    "- data types storage\n",
    "- importing module\n",
    "- numerical operations\n",
    "- modification capabilities\n",
    "- consumes less memory\n",
    "- fast compared to python list\n",
    "- convenient to use\n",
    "eg. List= [1,2,3]      # list is comma separated\n",
    "    Array=[1 2 3]     # array is space separated"
   ]
  },
  {
   "cell_type": "code",
   "execution_count": null,
   "id": "9ded68b7",
   "metadata": {},
   "outputs": [],
   "source": [
    "# 4. Installation and Import NumPy\n",
    "- pip install numpy\n",
    "- import numpy as np"
   ]
  },
  {
   "cell_type": "code",
   "execution_count": 2,
   "id": "9730c8a0",
   "metadata": {
    "scrolled": true
   },
   "outputs": [
    {
     "name": "stdout",
     "output_type": "stream",
     "text": [
      "Collecting numpy\n",
      "  Downloading numpy-1.24.2-cp310-cp310-win_amd64.whl (14.8 MB)\n",
      "     ---------------------------------------- 14.8/14.8 MB 1.4 MB/s eta 0:00:00\n",
      "Installing collected packages: numpy\n",
      "Successfully installed numpy-1.24.2\n",
      "Note: you may need to restart the kernel to use updated packages.\n"
     ]
    }
   ],
   "source": [
    "pip install numpy"
   ]
  },
  {
   "cell_type": "code",
   "execution_count": 4,
   "id": "63ad6fb6",
   "metadata": {},
   "outputs": [
    {
     "data": {
      "text/plain": [
       "'1.24.2'"
      ]
     },
     "execution_count": 4,
     "metadata": {},
     "output_type": "execute_result"
    }
   ],
   "source": [
    "import numpy\n",
    "numpy.__version__"
   ]
  },
  {
   "cell_type": "code",
   "execution_count": 5,
   "id": "7d21d738",
   "metadata": {},
   "outputs": [
    {
     "name": "stdout",
     "output_type": "stream",
     "text": [
      "[1 2 3 4] <class 'numpy.ndarray'>\n",
      "[1, 2, 3, 4] <class 'list'>\n"
     ]
    }
   ],
   "source": [
    "import numpy as np\n",
    "arr=np.array([1,2,3,4])\n",
    "print(arr,type(arr))\n",
    "\n",
    "ls=[1,2,3,4]\n",
    "print(ls,type(ls))"
   ]
  },
  {
   "cell_type": "code",
   "execution_count": null,
   "id": "b641831f",
   "metadata": {},
   "outputs": [],
   "source": [
    "# 5. Importance of NumPy in Python\n",
    "- allows varieties of mathematical operations on array\n",
    "- it supplies enormous library of high-level mathematical f*n that operate on these arrays ans matrices\n",
    "- mathematical, logical, shape manipulation, sorting, selecting, I/O,\n",
    "- discrete fourier transforms, basic linear algebra, basic statistical operations, random simulation...etc\n"
   ]
  },
  {
   "cell_type": "code",
   "execution_count": null,
   "id": "fd7e241b",
   "metadata": {},
   "outputs": [],
   "source": [
    "# 6. How to get code execution time\n",
    "- %timeit      # for single line execution time\n",
    "- %%timeit     # for code execution time"
   ]
  },
  {
   "cell_type": "code",
   "execution_count": 6,
   "id": "d599ac1f",
   "metadata": {},
   "outputs": [
    {
     "name": "stdout",
     "output_type": "stream",
     "text": [
      "6 µs ± 182 ns per loop (mean ± std. dev. of 7 runs, 100,000 loops each)\n",
      "3.81 µs ± 23.2 ns per loop (mean ± std. dev. of 7 runs, 100,000 loops each)\n"
     ]
    }
   ],
   "source": [
    "# lets try this\n",
    "%timeit [i**4 for i in range(1,11)]     # list timing\n",
    "%timeit np.arange(1,11)**4              # array timing"
   ]
  },
  {
   "cell_type": "code",
   "execution_count": null,
   "id": "75879012",
   "metadata": {},
   "outputs": [],
   "source": [
    "# NOTE: points to be noted\n",
    "- In Numpy array some functions can be written in two ways:   -'use wisely\n",
    "    1. np.function_name(arr_name)\n",
    "    2. arr_name.function_name()"
   ]
  },
  {
   "cell_type": "code",
   "execution_count": null,
   "id": "0d82819d",
   "metadata": {},
   "outputs": [],
   "source": []
  },
  {
   "cell_type": "code",
   "execution_count": null,
   "id": "0dcc11f7",
   "metadata": {},
   "outputs": [],
   "source": []
  }
 ],
 "metadata": {
  "kernelspec": {
   "display_name": "Python 3 (ipykernel)",
   "language": "python",
   "name": "python3"
  },
  "language_info": {
   "codemirror_mode": {
    "name": "ipython",
    "version": 3
   },
   "file_extension": ".py",
   "mimetype": "text/x-python",
   "name": "python",
   "nbconvert_exporter": "python",
   "pygments_lexer": "ipython3",
   "version": "3.10.8"
  }
 },
 "nbformat": 4,
 "nbformat_minor": 5
}
