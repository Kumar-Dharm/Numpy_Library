{
 "cells": [
  {
   "cell_type": "markdown",
   "id": "5f4c51ec",
   "metadata": {},
   "source": [
    "### Numpy lec-17: Concept of Matrices in Numpy Arrays"
   ]
  },
  {
   "cell_type": "code",
   "execution_count": 1,
   "id": "23ba2204",
   "metadata": {},
   "outputs": [],
   "source": [
    "import numpy as np"
   ]
  },
  {
   "cell_type": "code",
   "execution_count": null,
   "id": "8bf9e417",
   "metadata": {},
   "outputs": [],
   "source": [
    "# Matrix in Numpy Array\n",
    "#                   matrix                             vs                  array\n",
    "- It is 2D representation                                 - It is an extension of 2D matrix and can be multi-dimensional\n",
    "- A matrix is a rectangular array or table of numbers,    - Arrays are a fundamental data structure, they are containers \n",
    "  symbols, or expressions, arranged in rows and columns     which are able to store more than one item at the same time\n",
    "- which is used to represent a mathematical               - They are an ordered collection of elements \n",
    "  object or a property of such an object                    with every value being of the same data type\n",
    "\n",
    " syntax: np.matrix(data, dtype=None, copy=True)          np.array(object, dtype=None, *,copy=True,order='K',ndmin=0,like=None)"
   ]
  },
  {
   "cell_type": "code",
   "execution_count": 2,
   "id": "e4fc7821",
   "metadata": {},
   "outputs": [
    {
     "name": "stdout",
     "output_type": "stream",
     "text": [
      "[[10 20 30]\n",
      " [90 80 70]] <class 'numpy.matrix'>\n",
      "[[10 20 30]\n",
      " [90 80 70]] <class 'numpy.ndarray'>\n"
     ]
    }
   ],
   "source": [
    "# creation of numpy matrix and numpy array\n",
    "mat=np.matrix([[10,20,30],[90,80,70]])\n",
    "print(mat,type(mat))\n",
    "\n",
    "arr=np.array([[10,20,30],[90,80,70]])\n",
    "print(arr,type(arr))"
   ]
  },
  {
   "cell_type": "code",
   "execution_count": null,
   "id": "e4c9ba85",
   "metadata": {},
   "outputs": [],
   "source": [
    "# Note:\n",
    "- addition and substraction are performed directly in both matrix and array\n",
    "- multiplication and division are performed directly in array only\n",
    "- but multiplication and division are performed by dot function in matrix\n",
    "- while performing operations must take care of broadcasting"
   ]
  },
  {
   "cell_type": "code",
   "execution_count": 3,
   "id": "33efe17e",
   "metadata": {},
   "outputs": [
    {
     "name": "stdout",
     "output_type": "stream",
     "text": [
      "[[10 10 10]\n",
      " [10 10 10]\n",
      " [10 10 10]] ....matrix addition:\n",
      "[[ 8  6  4]\n",
      " [ 2  0 -2]\n",
      " [-4 -6 -8]] .....matrix substraction:\n",
      "[[ 90 114 138]\n",
      " [ 54  69  84]\n",
      " [ 18  24  30]] ....matrix multiplication:\n"
     ]
    }
   ],
   "source": [
    "# Arithmetic operation of matrix\n",
    "mat1=np.matrix([[9,8,7],[6,5,4],[3,2,1]])\n",
    "mat2=np.matrix([[1,2,3],[4,5,6],[7,8,9]])\n",
    "\n",
    "print(mat1+mat2,'....matrix addition:')\n",
    "print(mat1-mat2,'.....matrix substraction:')\n",
    "print(mat1.dot(mat2),'....matrix multiplication:')    # for multiplication use dot(.) function\n",
    "\n",
    "# Think what will happen if we unpack here"
   ]
  },
  {
   "cell_type": "code",
   "execution_count": null,
   "id": "1d1f81fe",
   "metadata": {},
   "outputs": [],
   "source": [
    "# Matrix functions in Numpy Arrays\n",
    "Transpose: -returns the transpose of the matrix\n",
    "    'syntax: matrix_name.T   or   np.transpose(matrix_name)\n",
    "    \n",
    "Swapaxes:  -interchange two axes of an array\n",
    "    'syntax: np.swapaxes(matrix_name, axis1, axis2)\n",
    "    \n",
    "Inverse:   -compute the (multiplicative) inverse of a matrix\n",
    "    'syntax: np.linalg.inv(matrix_name)\n",
    "    \n",
    "Power:     -raise a square matrix to the (integer) power `n` -(A**2=A*A)\n",
    "    'syntax: np.linalg.matrix_power(matrix_name, n)\n",
    "        if n==0: Identity matrix\n",
    "            n>0: Power matrix\n",
    "            n<0: Inverse*Power\n",
    "    \n",
    "Determinate:-compute the determinant of an array\n",
    "    'syntax: np.linalg.det(matrix_name)\n",
    "    "
   ]
  },
  {
   "cell_type": "code",
   "execution_count": 4,
   "id": "a26f2717",
   "metadata": {},
   "outputs": [
    {
     "name": "stdout",
     "output_type": "stream",
     "text": [
      "[[1 2 3]\n",
      " [4 5 6]\n",
      " [7 8 9]] ........matrix\n",
      "[[1 4 7]\n",
      " [2 5 8]\n",
      " [3 6 9]] .......transpose\n",
      "[[1 4 7]\n",
      " [2 5 8]\n",
      " [3 6 9]] .......swapaxes\n"
     ]
    }
   ],
   "source": [
    "# lets try this\n",
    "mat1=np.matrix([[1,2,3],[4,5,6],[7,8,9]])\n",
    "print(mat1,'........matrix')\n",
    "\n",
    "print(np.transpose(mat1),'.......transpose')     # we can also use: matrix_name.T\n",
    "print(np.swapaxes(mat1,0,1),'.......swapaxes')"
   ]
  },
  {
   "cell_type": "code",
   "execution_count": 3,
   "id": "f1b46da4",
   "metadata": {},
   "outputs": [
    {
     "name": "stdout",
     "output_type": "stream",
     "text": [
      "[[1 0 5]\n",
      " [2 1 6]\n",
      " [3 4 0]] ..........matrix\n",
      "[[-24.  20.  -5.]\n",
      " [ 18. -15.   4.]\n",
      " [  5.  -4.   1.]] ........inverse\n",
      "[[16 20  5]\n",
      " [22 25 16]\n",
      " [11  4 39]] .........positive power\n",
      "[[1 0 0]\n",
      " [0 1 0]\n",
      " [0 0 1]] .........power=0 => Identity matrix\n",
      "[[ 911. -760.  195.]\n",
      " [-682.  569. -146.]\n",
      " [-187.  156.  -40.]] .........negative power\n",
      "0.9999999999999967 .........determinant\n"
     ]
    }
   ],
   "source": [
    "# lets try this\n",
    "mat2=np.matrix([[1,0,5],[2,1,6],[3,4,0]])\n",
    "print(mat2,'..........matrix')\n",
    "\n",
    "print(np.linalg.inv(mat2),'........inverse')\n",
    "print(np.linalg.matrix_power(mat2,2),'.........positive power')\n",
    "print(np.linalg.matrix_power(mat2,0),'.........power=0 => Identity matrix')\n",
    "print(np.linalg.matrix_power(mat2,-2),'.........negative power')\n",
    "print(np.linalg.det(mat2),'.........determinant')"
   ]
  },
  {
   "cell_type": "code",
   "execution_count": null,
   "id": "89fd0355",
   "metadata": {},
   "outputs": [],
   "source": []
  }
 ],
 "metadata": {
  "kernelspec": {
   "display_name": "Python 3 (ipykernel)",
   "language": "python",
   "name": "python3"
  },
  "language_info": {
   "codemirror_mode": {
    "name": "ipython",
    "version": 3
   },
   "file_extension": ".py",
   "mimetype": "text/x-python",
   "name": "python",
   "nbconvert_exporter": "python",
   "pygments_lexer": "ipython3",
   "version": "3.10.8"
  }
 },
 "nbformat": 4,
 "nbformat_minor": 5
}
