{
 "cells": [
  {
   "cell_type": "markdown",
   "id": "e2daddcd",
   "metadata": {},
   "source": [
    "### Numpy lec-11: Iterating Numpy Arrays"
   ]
  },
  {
   "cell_type": "code",
   "execution_count": 1,
   "id": "fb3c57ab",
   "metadata": {},
   "outputs": [],
   "source": [
    "import numpy as np"
   ]
  },
  {
   "cell_type": "code",
   "execution_count": 2,
   "id": "2ab969f3",
   "metadata": {},
   "outputs": [
    {
     "name": "stdout",
     "output_type": "stream",
     "text": [
      "0\n",
      "1\n",
      "2\n",
      "3\n",
      "4\n",
      "5\n",
      "[0 1 2 3 4 5]\n"
     ]
    }
   ],
   "source": [
    "# Iterating Numpy array  -using for loop\n",
    "# iterating 1D array\n",
    "arr1=np.arange(6)\n",
    "for i in arr1:\n",
    "    print(i)\n",
    "print(arr1)"
   ]
  },
  {
   "cell_type": "code",
   "execution_count": 3,
   "id": "0b755098",
   "metadata": {},
   "outputs": [
    {
     "name": "stdout",
     "output_type": "stream",
     "text": [
      "[[0 1 2]\n",
      " [3 4 5]]\n",
      "[0 1 2]\n",
      "[3 4 5]\n",
      "0\n",
      "1\n",
      "2\n",
      "3\n",
      "4\n",
      "5\n"
     ]
    }
   ],
   "source": [
    "# iterating 2D array\n",
    "arr2=np.arange(6).reshape(2,3)\n",
    "print(arr2)\n",
    "\n",
    "for i in arr2:        # to iterate rows of 2D array\n",
    "    print(i)\n",
    "for i in arr2:        # to iterate elements of 2D array\n",
    "    for j in i:\n",
    "        print(j)"
   ]
  },
  {
   "cell_type": "code",
   "execution_count": 4,
   "id": "ccbbcafa",
   "metadata": {},
   "outputs": [
    {
     "name": "stdout",
     "output_type": "stream",
     "text": [
      "[[[1 2]\n",
      "  [3 4]]\n",
      "\n",
      " [[5 6]\n",
      "  [7 8]]] dimension: 3\n",
      "[[1 2]\n",
      " [3 4]]\n",
      "[[5 6]\n",
      " [7 8]]\n",
      "[1 2]\n",
      "[3 4]\n",
      "[5 6]\n",
      "[7 8]\n",
      "1\n",
      "2\n",
      "3\n",
      "4\n",
      "5\n",
      "6\n",
      "7\n",
      "8\n"
     ]
    }
   ],
   "source": [
    "# iterating 3D array\n",
    "arr3=np.arange(1,9).reshape(2,2,2)\n",
    "print(arr3,'dimension:',arr3.ndim)\n",
    "\n",
    "# iterating rows in 3D array\n",
    "for i in arr3:                 \n",
    "    print(i)\n",
    "# iterating each rows of rows in 3D array  \n",
    "for i in arr3:                 \n",
    "    for j in i:\n",
    "        print(j)\n",
    "# iterating each elements of 3D array\n",
    "for i in arr3:                 \n",
    "    for j in i:\n",
    "        for k in j:\n",
    "            print(k) "
   ]
  },
  {
   "cell_type": "code",
   "execution_count": null,
   "id": "9b0aa936",
   "metadata": {},
   "outputs": [],
   "source": [
    "# Iterating Numpy array           -using nditer()\n",
    "# Efficient multi-dimensional iterator object to iterate over arrays\n",
    "    '# syntax: np.nditer(arr_name)\n",
    "    \n",
    "# Docstring:  \n",
    "np.nditer(op, flags=None, op_flags=None, op_dtypes=None, order='K', casting='safe', op_axes=None, itershape=None, buffersize=0)"
   ]
  },
  {
   "cell_type": "code",
   "execution_count": 5,
   "id": "f60b377d",
   "metadata": {},
   "outputs": [
    {
     "name": "stdout",
     "output_type": "stream",
     "text": [
      "1\n",
      "2\n",
      "3\n",
      "4\n",
      "5\n",
      "6\n",
      "7\n",
      "8\n"
     ]
    }
   ],
   "source": [
    "# lets try this\n",
    "arr3=np.arange(1,9).reshape(2,2,2)\n",
    "for i in np.nditer(arr3):\n",
    "    print(i)"
   ]
  },
  {
   "cell_type": "code",
   "execution_count": 7,
   "id": "b1755fdf",
   "metadata": {},
   "outputs": [
    {
     "name": "stdout",
     "output_type": "stream",
     "text": [
      " index:  element:\n",
      "(0, 0, 0) - 1\n",
      "(0, 0, 1) - 2\n",
      "(0, 1, 0) - 3\n",
      "(0, 1, 1) - 4\n",
      "(1, 0, 0) - 5\n",
      "(1, 0, 1) - 6\n",
      "(1, 1, 0) - 7\n",
      "(1, 1, 1) - 8\n"
     ]
    }
   ],
   "source": [
    "# Numpy array elements iteration with index number  -using ndenumerate()\n",
    "\n",
    "# Multidimensional index iterator -1D,2D,3D....\n",
    "    '# syntax: np.ndenumerate(arr_name)\n",
    "    \n",
    "arr3=np.arange(1,9).reshape(2,2,2)\n",
    "print(' index: ','element:')\n",
    "\n",
    "for i,e in np.ndenumerate(arr3):\n",
    "    print(i,'-',e)"
   ]
  },
  {
   "cell_type": "markdown",
   "id": "527d29a8",
   "metadata": {},
   "source": [
    "### Numpy lec-12: Copy vs View in Numpy Arrays"
   ]
  },
  {
   "cell_type": "code",
   "execution_count": null,
   "id": "fe620802",
   "metadata": {},
   "outputs": [],
   "source": [
    "# Difference b/w copy and view\n",
    "- copy owns the data                     -view does not owns the data\n",
    "- copy of an array is a new array        -view of an array is original array\n",
    "- changes made in copy does not\n",
    "  reflect in original array              -changes made in view will affect the original and vice versa\n",
    "# use:\n",
    "- when dont wants any change in original  -when required to change original as well as duplicate"
   ]
  },
  {
   "cell_type": "code",
   "execution_count": 8,
   "id": "508c741d",
   "metadata": {},
   "outputs": [
    {
     "name": "stdout",
     "output_type": "stream",
     "text": [
      "Array: [ 1  2 50  4  5]\n",
      "Copy: [1 2 3 4 5]\n"
     ]
    }
   ],
   "source": [
    "# Copy in Numpy Arrays\n",
    "# syntax: np.copy(arr_name, order='K') -return an array copy of the given object\n",
    "# syntax: arr_name.copy() -return a copy of the array\n",
    "    \n",
    "arr_1=np.array([1,2,3,4,5])\n",
    "copy=arr_1.copy()\n",
    " \n",
    "arr_1[2]=50                  # now change the data and check (changes only in one)\n",
    "print('Array:',arr_1)\n",
    "print('Copy:',copy)"
   ]
  },
  {
   "cell_type": "code",
   "execution_count": 9,
   "id": "1fdbb4b7",
   "metadata": {},
   "outputs": [
    {
     "name": "stdout",
     "output_type": "stream",
     "text": [
      "Array: [ 9  8 50  6  5]\n",
      "View: [ 9  8 50  6  5]\n"
     ]
    }
   ],
   "source": [
    "# View in Numpy Arrays\n",
    "# syntax: arr_name.view()    -new view of array with the same data\n",
    "\n",
    "arr_2=np.array([9,8,7,6,5])\n",
    "view=arr_2.view()\n",
    "\n",
    "arr_2[2]=50                  # now change the data and check (changed in both)\n",
    "print('Array:',arr_2)\n",
    "print('View:',view)"
   ]
  },
  {
   "cell_type": "markdown",
   "id": "26fdcdd0",
   "metadata": {},
   "source": [
    "### Numpy lec-13: Join & Split in Numpy Arrays"
   ]
  },
  {
   "cell_type": "code",
   "execution_count": null,
   "id": "98092758",
   "metadata": {},
   "outputs": [],
   "source": [
    "# Join function in Numpy Arrays   -using concatenate()\n",
    "\n",
    "# np.concatenate() -join a sequence of arrays along an existing axis\n",
    "    syntax: np.concatenate((a1, a2, ...), axis=0, out=None, dtype=None, casting=\"same_kind\")\n",
    "    \n",
    "- joining means putting contents of two or more arrays in a single array\n",
    "- while joining no of elements should be same which are to be joined\n",
    "\n",
    "# NOTE:\n",
    "    column wise(axis=0): pahle array ke column ke niche 2nd array ka column\n",
    "    row wise(axis=1): pahle array ke row me stack hoga 2nd array ka row"
   ]
  },
  {
   "cell_type": "code",
   "execution_count": 10,
   "id": "6c80f42d",
   "metadata": {},
   "outputs": [
    {
     "name": "stdout",
     "output_type": "stream",
     "text": [
      "[9 8 7 6 1 2 3 4]\n"
     ]
    }
   ],
   "source": [
    "# joining 1D array     \n",
    "arr1=np.array([9,8,7,6])\n",
    "arr2=np.array([1,2,3,4])\n",
    "arr=np.concatenate((arr1,arr2))\n",
    "print(arr)"
   ]
  },
  {
   "cell_type": "code",
   "execution_count": 11,
   "id": "66e412f8",
   "metadata": {},
   "outputs": [
    {
     "name": "stdout",
     "output_type": "stream",
     "text": [
      "[[9 8]\n",
      " [7 6]]\n",
      "[[1 2]\n",
      " [3 4]]\n",
      "..........column wise\n",
      "[[9 8]\n",
      " [7 6]\n",
      " [1 2]\n",
      " [3 4]]\n",
      "..........row wise\n",
      "[[9 8 1 2]\n",
      " [7 6 3 4]]\n"
     ]
    }
   ],
   "source": [
    "# joining 2D array\n",
    "arr1=np.array([[9,8],[7,6]])\n",
    "arr2=np.array([[1,2],[3,4]])\n",
    "print(arr1)\n",
    "print(arr2)\n",
    "print('..........column wise')\n",
    "arr=np.concatenate((arr1,arr2),axis=0)    # column wise concatenation\n",
    "print(arr)\n",
    "print('..........row wise')\n",
    "arr=np.concatenate((arr1,arr2),axis=1)    # row wise concatenation\n",
    "print(arr)"
   ]
  },
  {
   "cell_type": "code",
   "execution_count": 12,
   "id": "17a237fe",
   "metadata": {},
   "outputs": [
    {
     "name": "stdout",
     "output_type": "stream",
     "text": [
      "[[[9 8]]\n",
      "\n",
      " [[7 6]]\n",
      "\n",
      " [[5 4]]]\n",
      "[[[1 2]]\n",
      "\n",
      " [[3 4]]\n",
      "\n",
      " [[5 6]]]\n",
      "..........column wise\n",
      "[[[9 8]]\n",
      "\n",
      " [[7 6]]\n",
      "\n",
      " [[5 4]]\n",
      "\n",
      " [[1 2]]\n",
      "\n",
      " [[3 4]]\n",
      "\n",
      " [[5 6]]]\n",
      "..........row wise\n",
      "[[[9 8]\n",
      "  [1 2]]\n",
      "\n",
      " [[7 6]\n",
      "  [3 4]]\n",
      "\n",
      " [[5 4]\n",
      "  [5 6]]]\n"
     ]
    }
   ],
   "source": [
    "# joining 3D array\n",
    "arr1=np.array([[[9,8]],[[7,6]],[[5,4]]])\n",
    "arr2=np.array([[[1,2]],[[3,4]],[[5,6]]])\n",
    "print(arr1)\n",
    "print(arr2)\n",
    "print('..........column wise')\n",
    "arr=np.concatenate((arr1,arr2),axis=0)    # column wise concatenation\n",
    "print(arr)\n",
    "print('..........row wise')\n",
    "arr=np.concatenate((arr1,arr2),axis=1)    # row wise concatenation\n",
    "print(arr)"
   ]
  },
  {
   "cell_type": "code",
   "execution_count": null,
   "id": "2e183ca3",
   "metadata": {},
   "outputs": [],
   "source": [
    "# Join function in Numpy Arrays      -using stack\n",
    "# np.stack() -join a sequence of arrays along a new axis\n",
    "    syntax: np.stack(arrays, axis=0, out=None, *, dtype=None, casting='same_kind')\n",
    "# stack types:    \n",
    "    syntax: np.hstack(tup, *, dtype=None, casting='same_kind')    -stack arrays horizontally (new column me stack hoga)\n",
    "    syntax: np.vstack(tup, *, dtype=None, casting='same_kind')    -stack arrays vertically (new row me stack hoga)\n",
    "    syntax: np.dstack(tup)                                        -stack arrays in sequence depth wise (along third axis)\n",
    "        \n",
    "# Note: \n",
    "- stack with axis=0 is same as np.vstack()\n",
    "- stack with axis=1 is same as np.dstack()"
   ]
  },
  {
   "cell_type": "code",
   "execution_count": null,
   "id": "5bef2eeb",
   "metadata": {},
   "outputs": [],
   "source": [
    "# Docstring:\n",
    "concatenate : Join a sequence of arrays along an existing axis.\n",
    "stack : Join a sequence of arrays along a new axis.\n",
    "hstack : Stack arrays in sequence horizontally (column wise).\n",
    "vstack : Stack arrays in sequence vertically (row wise).\n",
    "dstack : Stack arrays in sequence depth wise (along third dimension)."
   ]
  },
  {
   "cell_type": "code",
   "execution_count": 13,
   "id": "9b99fe93",
   "metadata": {},
   "outputs": [
    {
     "name": "stdout",
     "output_type": "stream",
     "text": [
      "[[9 8 7 6]\n",
      " [1 2 3 4]]\n",
      "[[9 1]\n",
      " [8 2]\n",
      " [7 3]\n",
      " [6 4]]\n"
     ]
    }
   ],
   "source": [
    "# joining 1D array   -using stack\n",
    "arr1=np.array([9,8,7,6])\n",
    "arr2=np.array([1,2,3,4])\n",
    "arr=np.stack((arr1,arr2),axis=0)      # column wise stack\n",
    "print(arr)\n",
    "arr=np.stack((arr1,arr2),axis=1)      # row wise stack\n",
    "print(arr)"
   ]
  },
  {
   "cell_type": "code",
   "execution_count": 14,
   "id": "55de7749",
   "metadata": {},
   "outputs": [
    {
     "name": "stdout",
     "output_type": "stream",
     "text": [
      "[9 8 7 6 1 2 3 4]\n",
      "[[9 8 7 6]\n",
      " [1 2 3 4]]\n",
      "[[[9 1]\n",
      "  [8 2]\n",
      "  [7 3]\n",
      "  [6 4]]]\n"
     ]
    }
   ],
   "source": [
    "# joining 1D array     -using stack horizontally, vertically, along height(3rd axis)\n",
    "arr1=np.array([9,8,7,6])\n",
    "arr2=np.array([1,2,3,4])\n",
    "arr=np.hstack((arr1,arr2))    # stacked horizontally  -along row  \n",
    "print(arr)\n",
    "arr=np.vstack((arr1,arr2))    # stacked vertically    -along column\n",
    "print(arr)\n",
    "arr=np.dstack((arr1,arr2))    # stacked along height\n",
    "print(arr)"
   ]
  },
  {
   "cell_type": "code",
   "execution_count": null,
   "id": "2944410d",
   "metadata": {},
   "outputs": [],
   "source": [
    "# similarly: try for this\n",
    "# joining 2D array     -using stack horizontally, vertically, along height(3rd axis)\n",
    "\n",
    "# joining 3D array     -using stack horizontally, vertically, along height(3rd axis)\n"
   ]
  },
  {
   "cell_type": "code",
   "execution_count": null,
   "id": "b2fdea32",
   "metadata": {},
   "outputs": [],
   "source": [
    "# Split function in Numpy Arrays         -using split\n",
    "- to split/break an array into multiple sun-arrays\n",
    "- we get splitted array in form of list data type\n",
    "- so we can access any sub-array by its index number\n",
    "    'syntax: np.split(arr_name, indices_or_sections, axis=0)\n",
    "    'syntax: np.array_split(arr_name, indices_or_sections, axis=0)"
   ]
  },
  {
   "cell_type": "code",
   "execution_count": null,
   "id": "570860a4",
   "metadata": {},
   "outputs": [],
   "source": [
    "# Docstring:\n",
    "array_split : Split an array into multiple sub-arrays of equal or\n",
    "              near-equal size.  Does not raise an exception if\n",
    "              an equal division cannot be made.\n",
    "hsplit : Split array into multiple sub-arrays horizontally (column-wise).\n",
    "vsplit : Split array into multiple sub-arrays vertically (row wise).\n",
    "dsplit : Split array into multiple sub-arrays along the 3rd axis (depth)."
   ]
  },
  {
   "cell_type": "code",
   "execution_count": 15,
   "id": "9c65a9c7",
   "metadata": {},
   "outputs": [
    {
     "name": "stdout",
     "output_type": "stream",
     "text": [
      "splitted array: [array([1, 2]), array([3, 4]), array([5, 6])]\n",
      "unpacking: [1 2] [3 4] [5 6]\n",
      "1st splitted array: [1 2]\n"
     ]
    }
   ],
   "source": [
    "# lets try this\n",
    "# splitting 1D array\n",
    "arr1=np.array([1,2,3,4,5,6])\n",
    "arr_sp=np.split(arr1,3)\n",
    "\n",
    "print('splitted array:',arr_sp)          # split array in form of list\n",
    "print('unpacking:',*arr_sp)              # unpacking of splitted array\n",
    "print('1st splitted array:',arr_sp[0])   # to get particular array in splitted array use indexing"
   ]
  },
  {
   "cell_type": "code",
   "execution_count": 16,
   "id": "a86e7d20",
   "metadata": {},
   "outputs": [
    {
     "name": "stdout",
     "output_type": "stream",
     "text": [
      "[array([[9, 8, 7, 6]]), array([[1, 2, 3, 4]])] \n",
      " [[9 8 7 6]] [[1 2 3 4]] \n",
      " [[9 8 7 6]]\n",
      ".................\n",
      "[array([[9],\n",
      "       [1]]), array([[8],\n",
      "       [2]]), array([[7],\n",
      "       [3]]), array([[6],\n",
      "       [4]])]\n",
      "[[9]\n",
      " [1]] [[8]\n",
      " [2]] [[7]\n",
      " [3]] [[6]\n",
      " [4]]\n",
      "[[9]\n",
      " [1]]\n"
     ]
    }
   ],
   "source": [
    "# splitting 2D array\n",
    "arr2=np.array([[9,8,7,6],\n",
    "               [1,2,3,4]])\n",
    "arr_sp=np.split(arr2,2)\n",
    "print(arr_sp,'\\n',*arr_sp,'\\n',arr_sp[0])\n",
    "print('.................')\n",
    "\n",
    "# splitting 2D array   -along axis\n",
    "arr2=np.array([[9,8,7,6],\n",
    "               [1,2,3,4]])\n",
    "arr_sp=np.split(arr2,4,axis=1)\n",
    "print(arr_sp)                 # splitted array\n",
    "print(*arr_sp)                # unpacking\n",
    "print(arr_sp[0])              # accessing splitted array"
   ]
  },
  {
   "cell_type": "code",
   "execution_count": null,
   "id": "25d68a27",
   "metadata": {},
   "outputs": [],
   "source": [
    "# similarly: try for this\n",
    "# splitting 3D array\n"
   ]
  },
  {
   "cell_type": "code",
   "execution_count": null,
   "id": "e966222d",
   "metadata": {},
   "outputs": [],
   "source": []
  },
  {
   "cell_type": "code",
   "execution_count": null,
   "id": "7426f0a4",
   "metadata": {},
   "outputs": [],
   "source": []
  }
 ],
 "metadata": {
  "kernelspec": {
   "display_name": "Python 3 (ipykernel)",
   "language": "python",
   "name": "python3"
  },
  "language_info": {
   "codemirror_mode": {
    "name": "ipython",
    "version": 3
   },
   "file_extension": ".py",
   "mimetype": "text/x-python",
   "name": "python",
   "nbconvert_exporter": "python",
   "pygments_lexer": "ipython3",
   "version": "3.10.8"
  }
 },
 "nbformat": 4,
 "nbformat_minor": 5
}
