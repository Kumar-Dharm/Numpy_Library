{
 "cells": [
  {
   "cell_type": "markdown",
   "id": "e14b3023",
   "metadata": {},
   "source": [
    "### Numpy lec-14: Numpy Arrays Functions -I"
   ]
  },
  {
   "cell_type": "code",
   "execution_count": 1,
   "id": "a81cbaa6",
   "metadata": {},
   "outputs": [],
   "source": [
    "import numpy as np"
   ]
  },
  {
   "cell_type": "code",
   "execution_count": null,
   "id": "d8463e92",
   "metadata": {},
   "outputs": [],
   "source": [
    "# Numpy array functions:-I\n",
    "Search array, Sort, Filter, Search Sorted array"
   ]
  },
  {
   "cell_type": "code",
   "execution_count": null,
   "id": "ae922357",
   "metadata": {},
   "outputs": [],
   "source": [
    "# Search array: search an array for a certain value, and return the indexes that get a match\n",
    "# Where condition\n",
    "- we can apply condition on array elements, sliced part, whole array etc.\n",
    "    syntax: np.where(condition, value if True, value if False)\n",
    "        \n",
    "# Nested where condition\n",
    "    syntax: np.where(condition, np.where(condition, value if True, value if False), value if False)\n",
    "    syntax: np.where(condition, np.where(condition, np.where(condition, value if True, value if False),\\n\n",
    "                                         value if False), value if False)\n",
    "# Note: \n",
    "- for nested condition 1st find 2nd condition and put it in 1st condition\n",
    "- we can also apply where condition on an array by using: \n",
    "    'syntax: arr_name[condition]                                                           ---important---\n",
    "    -here condition can be on array element or sliced array elements                "
   ]
  },
  {
   "cell_type": "code",
   "execution_count": 2,
   "id": "fd780e61",
   "metadata": {},
   "outputs": [
    {
     "name": "stdout",
     "output_type": "stream",
     "text": [
      "(array([ 0,  5, 10, 15, 20, 25, 30, 35, 40, 45, 50], dtype=int64),)\n",
      "[0 0 0 0 0 0 0 0 0 0 0 0 0 0 0 0 0 0 0 0 0 1 1 1 1 1 1 1 1 1 0 0 0 0 0 0 0\n",
      " 0 0 0 0 0 0 0 0 0 0 0 0 0 0]\n",
      "['yes' 'yes' 'yes' 'yes' 'yes' 'yes' 'yes' 'yes' 'yes' 'yes' 'no' 'no'\n",
      " 'no' 'no' 'no' 'no' 'no' 'no' 'no' 'no' 'no' 'no' 'no' 'no' 'no' 'no'\n",
      " 'no' 'no' 'no' 'no' 'no' 'no' 'no' 'no' 'no' 'no' 'no' 'no' 'no' 'no'\n",
      " 'no' 'yes' 'yes' 'yes' 'yes' 'yes' 'yes' 'yes' 'yes' 'yes' 'yes']\n",
      "[ 0  0  0  3  0  0  6  0  0  9  0  0 12  0  0 15  0  0 18  0  0 21  0  0\n",
      " 24  0  0 27  0  0 30  0  0 33  0  0 36  0  0 39  0  0 42  0  0 45  0  0\n",
      " 48  0  0]\n"
     ]
    }
   ],
   "source": [
    "# lets try this -search array\n",
    "# where condition in 1D array\n",
    "arr1=np.arange(51)\n",
    "x1=np.where(arr1%5==0)                          # modulo condition\n",
    "x2=np.where((arr1>20)&(arr1<30), 1, 0)          # and operator\n",
    "x3=np.where((arr1<10)|(arr1>40), 'yes', 'no')   # or operator\n",
    "x4=np.where((arr1[::]%3==0), arr1 ,0)           # condition over slicing\n",
    "print(x1)\n",
    "print(x2)\n",
    "print(x3)\n",
    "print(x4)"
   ]
  },
  {
   "cell_type": "code",
   "execution_count": null,
   "id": "f009a483",
   "metadata": {},
   "outputs": [],
   "source": [
    "# similarly: try for this\n",
    "# where condition in 2D array\n",
    "\n",
    "# where condition in 3D array\n"
   ]
  },
  {
   "cell_type": "code",
   "execution_count": null,
   "id": "92a8f99c",
   "metadata": {},
   "outputs": [],
   "source": [
    "# Sort array: return a sorted copy of an array\n",
    "    '# syntax: np.sort(arr_name, axis=-1, kind=None, order=None)\n",
    "    \n",
    "# Filter array: \n",
    "- to get elements out of an existing array and creating a new array out of them\n",
    "- here we will get all the filtered elements which I required\n",
    "- give True for required elements and False for not required elements\n",
    "- we can make 1D, 2D, 3D ...array also\n",
    "    syntax: f=[True,False,True,True,False...]        # to get this filtered array pass it through the array\n",
    "    \n",
    "# Search Sorted array: find indices where elements should be inserted to maintain order\n",
    "    '# syntax: np.searchsorted(arr_name, value, side='left', sorter=None)"
   ]
  },
  {
   "cell_type": "code",
   "execution_count": 3,
   "id": "4fab11a6",
   "metadata": {},
   "outputs": [
    {
     "name": "stdout",
     "output_type": "stream",
     "text": [
      "[25 39 63 73 75 87]\n",
      "['A' 'D' 'M' 'R' 'T']\n"
     ]
    }
   ],
   "source": [
    "# lets try this -sort array in 1D array\n",
    "arr_n=np.array([87,25,63,75,73,39])          # sorting number\n",
    "print(np.sort(arr_n))\n",
    "\n",
    "arr_a=np.array(['D','R','T','A','M'])        # sorting alphabet\n",
    "print(np.sort(arr_a))\n",
    "\n",
    "# similarly try for 2D and 3D array"
   ]
  },
  {
   "cell_type": "code",
   "execution_count": 4,
   "id": "52538fe6",
   "metadata": {},
   "outputs": [
    {
     "name": "stdout",
     "output_type": "stream",
     "text": [
      "['D' 'R' 'T']\n"
     ]
    }
   ],
   "source": [
    "# lets try this -filter array in 1D array\n",
    "arr2=np.array(['D','R','M','A','T'])\n",
    "f=[True,True,False,False,True]\n",
    "res=arr2[f]                    # to get filtered array pass it through the array\n",
    "print(res)\n",
    "\n",
    "# similarly try for 2D and 3D array"
   ]
  },
  {
   "cell_type": "code",
   "execution_count": 5,
   "id": "206927fe",
   "metadata": {},
   "outputs": [
    {
     "name": "stdout",
     "output_type": "stream",
     "text": [
      "index for 3: 1\n",
      "indices for [2,13,8]: [0 6 4]\n"
     ]
    }
   ],
   "source": [
    "# lets try this -search sorted array in 1D array\n",
    "arr3=np.array([2,4,5,7,8,9])\n",
    "x1=np.searchsorted(arr3, 3)           # to know position of single elements\n",
    "x2=np.searchsorted(arr3, [2,13,8])    # to know position of set of list of elements\n",
    "print('index for 3:',x1)\n",
    "print('indices for [2,13,8]:',x2)\n",
    "\n",
    "# similarly try for 2D and 3D array"
   ]
  },
  {
   "cell_type": "code",
   "execution_count": 6,
   "id": "b63c3bab",
   "metadata": {},
   "outputs": [
    {
     "name": "stdout",
     "output_type": "stream",
     "text": [
      "[2, 3, 5, 7, 11, 13, 17, 19, 23, 29, 31, 37, 41, 43, 47, 53, 59, 61, 67, 71, 73, 79, 83, 89, 97]\n"
     ]
    }
   ],
   "source": [
    "# Ques.-find prime number in given range\n",
    "def isprime(num):\n",
    "    c=0\n",
    "    for i in range(1,num+1):\n",
    "        if num%i==0:\n",
    "            c+=1\n",
    "    if c==2:\n",
    "        return True\n",
    "    else:\n",
    "        return False\n",
    "\n",
    "arr=np.arange(101)\n",
    "x=[]\n",
    "for i in arr:\n",
    "    if isprime(i):\n",
    "        x.append(i)\n",
    "print(x)"
   ]
  },
  {
   "cell_type": "markdown",
   "id": "904c5552",
   "metadata": {},
   "source": [
    "### Numpy lec-15: Numpy Arrays Functions -II"
   ]
  },
  {
   "cell_type": "code",
   "execution_count": null,
   "id": "5680079f",
   "metadata": {},
   "outputs": [],
   "source": [
    "# Numpy array functions:-II\n",
    "Shuffle, Unique, Resize, Flatten, Ravel"
   ]
  },
  {
   "cell_type": "code",
   "execution_count": null,
   "id": "a701fda0",
   "metadata": {},
   "outputs": [],
   "source": [
    "# Shuffle: \n",
    "- to shuffle the array\n",
    "- multi-dimensional arrays are only shuffled along the first axis\n",
    "    '# syntax: np.random.shuffle(arr_name)\n",
    "\n",
    "# Unique:\n",
    "- to get the unique elements of an array\n",
    "- to get 1st index num of unique element\n",
    "- to get count of each element\n",
    "'# syntax: np.unique(arr_name, return_index=False, return_inverse=False, return_counts=False, axis=None, *, equal_nan=True)\n",
    "    \n",
    "# Resize:\n",
    "- return a new array with the specified shape given in tuple\n",
    "    '# np.resize(arr_name, (new_shape))"
   ]
  },
  {
   "cell_type": "code",
   "execution_count": 7,
   "id": "f936b743",
   "metadata": {},
   "outputs": [
    {
     "name": "stdout",
     "output_type": "stream",
     "text": [
      "[1 8 6 7 5 9 4 2 3]\n",
      "(array([2, 3, 4, 5, 6]), array([0, 3, 1, 5, 2], dtype=int64), array([1, 2, 3, 2, 1], dtype=int64))\n",
      "[[3 2 5 4]\n",
      " [6 8 7 9]]\n"
     ]
    }
   ],
   "source": [
    "# lets try this  -in 1D array                        ---ask? -reference variable why and why not--------\n",
    "# shuffle\n",
    "a1=np.array([1,2,3,4,5,6,7,8,9])\n",
    "np.random.shuffle(a1)\n",
    "print(a1)\n",
    "\n",
    "# unique\n",
    "a2=np.array([2,4,6,3,4,5,3,4,5])\n",
    "x2=np.unique(a2,return_index=True,return_counts=True)\n",
    "print(x2)\n",
    "\n",
    "# resize\n",
    "a3=np.array([3,2,5,4,6,8,7,9])\n",
    "x3=np.resize(a3,(2,4))\n",
    "print(x3)"
   ]
  },
  {
   "cell_type": "code",
   "execution_count": null,
   "id": "44e6dc55",
   "metadata": {},
   "outputs": [],
   "source": [
    "# Flatten:  \n",
    "- return a copy of the array collapsed into one dimension\n",
    "- order: {'C','F','A','K'}  -by default 'C'     -order is optional\n",
    "    C -to flatten in row-major(C-style) order\n",
    "    F -to flatten in column-major(Fortran-style) order\n",
    "    A -to flatten in column-major order if 'a' is Fortran *contiguous* in memory, row-major order otherwise\n",
    "    K -to flatten 'a' in the order the elements occur in memory\n",
    "    '# syntax: arr_name.flatten(order='C')\n",
    "\n",
    "# Ravel:                                                                ---ask? use of order A & K---\n",
    "- return a contiguous flattened array\n",
    "    '# syntax: np.ravel(arr_name, order='C')                             "
   ]
  },
  {
   "cell_type": "code",
   "execution_count": 8,
   "id": "33f4ce26",
   "metadata": {},
   "outputs": [
    {
     "name": "stdout",
     "output_type": "stream",
     "text": [
      "[[1 2 3]\n",
      " [4 5 6]\n",
      " [7 8 9]]\n",
      "........flatten......\n",
      "[1 2 3 4 5 6 7 8 9] \n",
      " [1 4 7 2 5 8 3 6 9]\n",
      ".........ravel........\n",
      "[1 2 3 4 5 6 7 8 9] \n",
      " [1 4 7 2 5 8 3 6 9]\n"
     ]
    }
   ],
   "source": [
    "# lets try this  -in 1D array\n",
    "a4=np.arange(1,10).reshape(3,3)\n",
    "print(a4)\n",
    "\n",
    "print('........flatten......')      # flatten\n",
    "x4=a4.flatten()                     # by default order=C\n",
    "x5=a4.flatten(order='F')\n",
    "print(x4,'\\n',x5)\n",
    "\n",
    "print('.........ravel........')      # ravel\n",
    "x6=np.ravel(a4)\n",
    "x7=np.ravel(a4,order='F')\n",
    "print(x6,'\\n',x7)"
   ]
  },
  {
   "cell_type": "markdown",
   "id": "383bd6f0",
   "metadata": {},
   "source": [
    "### Numpy lec-16: Insert & Delete Functions Numpy Arrays"
   ]
  },
  {
   "cell_type": "code",
   "execution_count": null,
   "id": "dda14376",
   "metadata": {},
   "outputs": [],
   "source": [
    "# Insert function in Numpy array\n",
    "- insert values along the given axis before the given indices\n",
    "- while inserting, values should must matches with the array\n",
    "- while inserting multiple elements take care of brackets (specially in append)\n",
    "    '# syntax: np.insert(arr_name, indices(a,b,c..), values, axis=None)    -to insert integers values\n",
    "    '# syntax: np.append(arr_name, values, axis=None)                      -to append integers/float values\n",
    "    \n",
    "# NOTE:\n",
    "    - to take sliced indexing use: np.s_[::,::,::,...]"
   ]
  },
  {
   "cell_type": "code",
   "execution_count": 9,
   "id": "bab01a92",
   "metadata": {},
   "outputs": [
    {
     "name": "stdout",
     "output_type": "stream",
     "text": [
      "[ 1  2  3  4  5 50  6  7  8  9] \n",
      " [50  1  2  3  4  5  6  7  8  9 50]\n"
     ]
    }
   ],
   "source": [
    "# lets try this   -using insert in 1D array\n",
    "arr1=np.arange(1,10)\n",
    "x1=np.insert(arr1,5,50)\n",
    "x2=np.insert(arr1,(0,9),50)\n",
    "print(x1,'\\n',x2)"
   ]
  },
  {
   "cell_type": "code",
   "execution_count": 10,
   "id": "9e446b7f",
   "metadata": {},
   "outputs": [
    {
     "name": "stdout",
     "output_type": "stream",
     "text": [
      "[[1 2 3]\n",
      " [4 5 6]]\n",
      "[[ 1  2  3]\n",
      " [ 4  5  6]\n",
      " [50 50 50]] \n",
      " [[ 1  2 50  3]\n",
      " [ 4  5 50  6]]\n",
      "[[ 1  2  3]\n",
      " [ 4  5  6]\n",
      " [25 50 75]] \n",
      " [[ 1  2 25  3]\n",
      " [ 4  5 50  6]]\n"
     ]
    }
   ],
   "source": [
    "# lets try this   -using insert in 2D array\n",
    "arr2=np.arange(1,7).reshape(2,3)\n",
    "print(arr2)\n",
    "\n",
    "x1=np.insert(arr2,2,50,axis=0)              # inserting an element along axis=0\n",
    "x2=np.insert(arr2,2,50,axis=1)              # inserting an element along axis=1\n",
    "print(x1,'\\n',x2) \n",
    "\n",
    "x3=np.insert(arr2,2,[25,50,75],axis=0)      # inserting multiple element along axis=0\n",
    "x4=np.insert(arr2,2,[25,50],axis=1)         # inserting multiple element along axis=1\n",
    "print(x3,'\\n',x4)\n",
    "\n",
    "# similarly can try for 3D array"
   ]
  },
  {
   "cell_type": "code",
   "execution_count": 11,
   "id": "88e0d827",
   "metadata": {},
   "outputs": [
    {
     "name": "stdout",
     "output_type": "stream",
     "text": [
      "[1.  2.  3.  4.  5.  6.  7.  8.  9.  5.5]\n",
      "[[ 1  2  3]\n",
      " [ 4  5  6]\n",
      " [25 50 75]] \n",
      " [[ 1  2  3 25]\n",
      " [ 4  5  6 50]]\n"
     ]
    }
   ],
   "source": [
    "# lets try this   -using append in 1D array\n",
    "arr1=np.arange(1,10)\n",
    "x1=np.append(arr1,5.5)\n",
    "print(x1)\n",
    "\n",
    "# lets try this   -using append in 2D array\n",
    "arr2=np.arange(1,7).reshape(2,3)\n",
    "x2=np.append(arr2,[[25,50,75]],axis=0)            # take care of brackets while inserting multiple element\n",
    "x3=np.append(arr2,[[25],[50]],axis=1)             # take care of brackets while inserting multiple element\n",
    "print(x2,'\\n',x3)\n",
    "\n",
    "# similarly can try for 3D array"
   ]
  },
  {
   "cell_type": "code",
   "execution_count": null,
   "id": "c323d08a",
   "metadata": {},
   "outputs": [],
   "source": [
    "# Delete function in Numpy array\n",
    "- return a new array with sub-arrays along an axis deleted\n",
    "    '# syntax: np.delete(arr_name, indices(a,b,c...), axis=None)\n",
    "    \n",
    "# NOTE:\n",
    "    - to take sliced indexing use: np.s_[::,::,::,...]"
   ]
  },
  {
   "cell_type": "code",
   "execution_count": 12,
   "id": "6dd885f0",
   "metadata": {},
   "outputs": [
    {
     "name": "stdout",
     "output_type": "stream",
     "text": [
      "[1 2 3 4 6 7 8 9] \n",
      " [3 4 5 6 7 8] \n",
      " [1 2 8 9]\n"
     ]
    }
   ],
   "source": [
    "# lets try this           -in 1D array\n",
    "a1=np.array([1,2,3,4,5,6,7,8,9])\n",
    "d1=np.delete(a1,4)                    # to delete single element\n",
    "d2=np.delete(a1,(0,1,8))              # to delete particular index elements\n",
    "d3=np.delete(a1,np.s_[2:7])           # to delete sliced elements\n",
    "print(d1,'\\n',d2,'\\n',d3)"
   ]
  },
  {
   "cell_type": "code",
   "execution_count": null,
   "id": "13e87994",
   "metadata": {},
   "outputs": [],
   "source": []
  },
  {
   "cell_type": "code",
   "execution_count": null,
   "id": "5564c13c",
   "metadata": {},
   "outputs": [],
   "source": []
  }
 ],
 "metadata": {
  "kernelspec": {
   "display_name": "Python 3 (ipykernel)",
   "language": "python",
   "name": "python3"
  },
  "language_info": {
   "codemirror_mode": {
    "name": "ipython",
    "version": 3
   },
   "file_extension": ".py",
   "mimetype": "text/x-python",
   "name": "python",
   "nbconvert_exporter": "python",
   "pygments_lexer": "ipython3",
   "version": "3.10.8"
  }
 },
 "nbformat": 4,
 "nbformat_minor": 5
}
