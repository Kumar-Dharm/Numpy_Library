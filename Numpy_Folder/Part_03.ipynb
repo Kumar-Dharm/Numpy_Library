{
 "cells": [
  {
   "cell_type": "markdown",
   "id": "5d60cedb",
   "metadata": {},
   "source": [
    "### Numpy lec-05: Data Types in Numpy Array"
   ]
  },
  {
   "cell_type": "code",
   "execution_count": 1,
   "id": "b1bc76eb",
   "metadata": {},
   "outputs": [],
   "source": [
    "import numpy as np"
   ]
  },
  {
   "cell_type": "code",
   "execution_count": null,
   "id": "afebf415",
   "metadata": {},
   "outputs": [],
   "source": [
    "# Data types in Numpy array\n",
    "bool_\n",
    "int_\n",
    "float_\n",
    "complex_\n",
    "intc, intp, int8, int16, int32, int64\n",
    "uint8, uint16, uint32, uint64\n",
    "float16, float32, float64\n",
    "complex64, complex128\n",
    "\n",
    "# how to find data type in numpy array\n",
    "- to use above data types: \n",
    "    '# use syntax: dtype=np.data_type          eg. dtype=np.int\n",
    "- to know data types of an array\n",
    "    '# syntax: arr_name.dtype              "
   ]
  },
  {
   "cell_type": "code",
   "execution_count": 2,
   "id": "f9083b79",
   "metadata": {},
   "outputs": [
    {
     "name": "stdout",
     "output_type": "stream",
     "text": [
      "[] Data type: float64\n",
      "[1 2 3] Data type: int32\n",
      "[2.5 6.8] Data type: float64\n",
      "[ True] Data type: bool\n",
      "[2.+3.j] Data type: complex128\n",
      "['D' 'H' 'A' 'R' 'M'] Data type: <U1\n",
      "['1' 'True' '2.5' 'D' '(2+3j)'] Data type: <U64\n"
     ]
    }
   ],
   "source": [
    "# lets try this\n",
    "arr=np.array([])                       # empty\n",
    "print(arr,'Data type:',arr.dtype)\n",
    "arr1=np.array([1,2,3])                 # integer\n",
    "print(arr1,'Data type:',arr1.dtype)\n",
    "arr2=np.array([2.5,6.8])               # float\n",
    "print(arr2,'Data type:',arr2.dtype)\n",
    "arr3=np.array([True])                  # bool\n",
    "print(arr3,'Data type:',arr3.dtype)\n",
    "arr4=np.array([2+3j])                  # complex\n",
    "print(arr4,'Data type:',arr4.dtype)\n",
    "arr5=np.array(['D','H','A','R','M'])   # string\n",
    "print(arr5,'Data type:',arr5.dtype)\n",
    "\n",
    "arr6=np.array([1,True,2.5,'D',2+3j])   # mixed\n",
    "print(arr6,'Data type:',arr6.dtype)"
   ]
  },
  {
   "cell_type": "code",
   "execution_count": null,
   "id": "34eb5239",
   "metadata": {},
   "outputs": [],
   "source": [
    "# Data types as function -typecasting data type\n",
    "-characters used to represent dtype in Numpy\n",
    "i- integer\n",
    "b- boolean\n",
    "u- unsigned integer\n",
    "f- float\n",
    "c- complex float\n",
    "m- timedelta\n",
    "M- datetime\n",
    "O- object\n",
    "S- string\n",
    "U- Unicode string\n",
    "V- (void)\n",
    "        '# syntax to use: dtype=\"f\"      -to convert into float"
   ]
  },
  {
   "cell_type": "code",
   "execution_count": 3,
   "id": "ae15e5e8",
   "metadata": {},
   "outputs": [
    {
     "name": "stdout",
     "output_type": "stream",
     "text": [
      "[1 2 3] Data type: int8\n",
      "[1. 2. 3.] Data type: float32\n",
      "..........\n",
      "[1 2 3] Data type: int32\n",
      "[1.+0.j 2.+0.j 3.+0.j] Data type: complex64\n"
     ]
    }
   ],
   "source": [
    "# lets try this\n",
    "arr1=np.array([1,2,3],dtype=np.int8)                 \n",
    "print(arr1,'Data type:',arr1.dtype)\n",
    "\n",
    "# type casting\n",
    "arr2=np.array([1,2,3],dtype=\"f\")                 \n",
    "print(arr2,'Data type:',arr2.dtype)\n",
    "\n",
    "print('..........')\n",
    "# data type as function\n",
    "arr3=np.array([1,2,3])  \n",
    "new=np.complex64(arr3)\n",
    "\n",
    "print(arr3,'Data type:',arr3.dtype)\n",
    "print(new,'Data type:',new.dtype)"
   ]
  },
  {
   "cell_type": "code",
   "execution_count": 5,
   "id": "62db9d3b",
   "metadata": {},
   "outputs": [
    {
     "name": "stdout",
     "output_type": "stream",
     "text": [
      "[1 2 3] Data type: int32\n",
      "[1. 2. 3.] Data type: float64\n"
     ]
    }
   ],
   "source": [
    "# direct data type typecasting \n",
    "# arr_name.astype() -copy of the array, cast to a specified type\n",
    "    -use syntax: new=arr_name.astype(dtype, order='K', casting='unsafe', subok=True, copy=True)\n",
    "\n",
    "arr1=np.array([1,2,3])      \n",
    "new1=arr1.astype(float)\n",
    "print(arr1,'Data type:',arr1.dtype)\n",
    "print(new1,'Data type:',new1.dtype)"
   ]
  },
  {
   "cell_type": "markdown",
   "id": "332651a9",
   "metadata": {},
   "source": [
    "### Numpy lec-06: Arithmetic Operations in Numpy"
   ]
  },
  {
   "cell_type": "code",
   "execution_count": null,
   "id": "fdd4c5cd",
   "metadata": {},
   "outputs": [],
   "source": [
    "# Arithematic Operations\n",
    "a+b -np.add(a,b)\n",
    "a-b -np.subtract(a,b)\n",
    "a*b -np.multiply(a,b)\n",
    "a/b -np.divide(a,b)\n",
    "a//b -\n",
    "a%b -np.mod(a,b)\n",
    "a**b -np.power(a,b)\n",
    "1/a -np.reciprocal(a)"
   ]
  },
  {
   "cell_type": "code",
   "execution_count": 6,
   "id": "c6a69dec",
   "metadata": {},
   "outputs": [
    {
     "name": "stdout",
     "output_type": "stream",
     "text": [
      "[6 7 8 9]\n",
      "[0 1 2 3]\n",
      "[2 4 6 8]\n",
      "[0.5 1.  1.5 2. ]\n",
      "[0 1 1 2]\n",
      "[1 0 1 0]\n",
      "[ 1  4  9 16]\n",
      "[1.         0.5        0.33333333 0.25      ]\n"
     ]
    }
   ],
   "source": [
    "# lets try this\n",
    "import numpy as np\n",
    "arr=np.array([1,2,3,4])\n",
    "\n",
    "print(arr+5)\n",
    "print(arr-1)\n",
    "print(arr*2)\n",
    "print(arr/2)\n",
    "print(arr//2)\n",
    "print(arr%2)\n",
    "print(arr**2)\n",
    "print(1/arr)"
   ]
  },
  {
   "cell_type": "code",
   "execution_count": 7,
   "id": "e18fec85",
   "metadata": {},
   "outputs": [
    {
     "name": "stdout",
     "output_type": "stream",
     "text": [
      "[6 6 6 6]\n",
      "[ 4  2  0 -2]\n",
      "[5 8 9 8]\n",
      "[5.  2.  1.  0.5]\n",
      "[5 2 1 0]\n",
      "[0 0 0 2]\n",
      "[ 5 16 27 16]\n"
     ]
    }
   ],
   "source": [
    "# arithmatic operation on 1D array\n",
    "arr1=np.array([5,4,3,2])\n",
    "arr2=np.array([1,2,3,4])\n",
    "\n",
    "print(arr1+arr2)\n",
    "print(arr1-arr2)\n",
    "print(arr1*arr2)\n",
    "print(arr1/arr2)\n",
    "print(arr1//arr2)\n",
    "print(arr1%arr2)\n",
    "print(arr1**arr2)"
   ]
  },
  {
   "cell_type": "code",
   "execution_count": 8,
   "id": "b6a8c362",
   "metadata": {},
   "outputs": [
    {
     "name": "stdout",
     "output_type": "stream",
     "text": [
      "[6 6 6 6]\n",
      "[ 4  2  0 -2]\n",
      "[5 8 9 8]\n",
      "[5.  2.  1.  0.5]\n",
      "[0 0 0 2]\n",
      "[ 5 16 27 16]\n",
      "[1 0 0 0]\n"
     ]
    }
   ],
   "source": [
    "# arithmatic operation using numpy function\n",
    "arr1=np.array([5,4,3,2])\n",
    "arr2=np.array([1,2,3,4])\n",
    "\n",
    "print(np.add(arr1,arr2))\n",
    "print(np.subtract(arr1,arr2))\n",
    "print(np.multiply(arr1,arr2))\n",
    "print(np.divide(arr1,arr2))\n",
    "print(np.mod(arr1,arr2))\n",
    "print(np.power(arr1,arr2))\n",
    "print(np.reciprocal(arr2))"
   ]
  },
  {
   "cell_type": "code",
   "execution_count": 9,
   "id": "fe5fa032",
   "metadata": {
    "scrolled": true
   },
   "outputs": [
    {
     "name": "stdout",
     "output_type": "stream",
     "text": [
      "[[6 6 6 6]\n",
      " [6 6 6 6]]\n",
      "[[-4 -2  0  2]\n",
      " [-2  0  2  4]]\n",
      "[[5 8 9 8]\n",
      " [8 9 8 5]]\n",
      "[[0.2 0.5 1.  2. ]\n",
      " [0.5 1.  2.  5. ]]\n",
      "[[0 0 1 2]\n",
      " [0 1 2 5]]\n",
      "[[1 2 0 0]\n",
      " [2 0 0 0]]\n",
      "[[ 1 16 27 16]\n",
      " [16 27 16  5]]\n",
      "[[1.         0.5        0.33333333 0.25      ]\n",
      " [0.5        0.33333333 0.25       0.2       ]]\n"
     ]
    }
   ],
   "source": [
    "# arithmatic operation on 2D array\n",
    "arr21=np.array([[1,2,3,4],[2,3,4,5]])\n",
    "arr22=np.array([[5,4,3,2],[4,3,2,1]])\n",
    "\n",
    "print(arr21+arr22)\n",
    "print(arr21-arr22)\n",
    "print(arr21*arr22)\n",
    "print(arr21/arr22)\n",
    "print(arr21//arr22)\n",
    "print(arr21%arr22)\n",
    "print(arr21**arr22)\n",
    "print(1/arr21)"
   ]
  },
  {
   "cell_type": "code",
   "execution_count": null,
   "id": "7a64b8e9",
   "metadata": {},
   "outputs": [],
   "source": [
    "# arithmatic operation on 3D array -lets try this\n"
   ]
  },
  {
   "cell_type": "markdown",
   "id": "014bf20e",
   "metadata": {},
   "source": [
    "### Numpy lec-07: Arithmetic Functions in Numpy"
   ]
  },
  {
   "cell_type": "code",
   "execution_count": null,
   "id": "919d07ad",
   "metadata": {},
   "outputs": [],
   "source": [
    "# Arithmetic Functions\n",
    "                '# syntax:\n",
    "np.min(x)        np.min(a,axis=None)                                       -to get min\n",
    "np.max(x)        np.max(a,axis=None)                                       -to get max\n",
    "np.argmin(x)     np.argmin(a,axis=None,out=None, *,keepdims=<no value>)    -to get index of min\n",
    "np.argmax(x)     np.argmax(a,axis=None,out=None, *,keepdims=<no value>)    -to get index of max\n",
    "np.sqrt(x)       np.sqrt(*args, **kwargs)                                  -to get squareroot\n",
    "np.sin(x)        np.sin(*args, **kwargs)\n",
    "np.cos(x)        np.cos(*args, **kwargs)\n",
    "np.cumsum(x)     np.cumsum(a, axis=None, dtype=None, out=None)             -to find cumulative sum as we do in statistics\n",
    "# NOTE:\n",
    "    - axis are used while dealing with 2D or above dimension arrays         '---------must remember--------"
   ]
  },
  {
   "cell_type": "code",
   "execution_count": 10,
   "id": "1a8e4cff",
   "metadata": {
    "scrolled": true
   },
   "outputs": [
    {
     "name": "stdout",
     "output_type": "stream",
     "text": [
      "Min: 1 idx_min: 3\n",
      "Max: 36 idx_max: 5\n"
     ]
    }
   ],
   "source": [
    "# lets try this\n",
    "import numpy as np\n",
    "arr=np.array([16,4,25,1,9,36])\n",
    "\n",
    "print('Min:',np.min(arr),'idx_min:',np.argmin(arr))\n",
    "print('Max:',np.max(arr),'idx_max:',np.argmax(arr))"
   ]
  },
  {
   "cell_type": "code",
   "execution_count": 11,
   "id": "add7c14c",
   "metadata": {},
   "outputs": [
    {
     "name": "stdout",
     "output_type": "stream",
     "text": [
      "Square root: [1.         1.41421356 1.73205081]\n",
      "sin value: [0.84147098 0.90929743 0.14112001]\n",
      "cos value: [ 0.54030231 -0.41614684 -0.9899925 ]\n",
      "cumulative sum: [1 3 6]\n"
     ]
    }
   ],
   "source": [
    "arr=np.array([1,2,3])\n",
    "print('Square root:',np.sqrt(arr))\n",
    "print('sin value:',np.sin(arr))\n",
    "print('cos value:',np.cos(arr))\n",
    "print('cumulative sum:',np.cumsum(arr))"
   ]
  },
  {
   "cell_type": "code",
   "execution_count": 14,
   "id": "73a0a47e",
   "metadata": {},
   "outputs": [
    {
     "name": "stdout",
     "output_type": "stream",
     "text": [
      "Min: 0\n",
      "Min: [0 1]\n",
      "Min: [5 0 4 1]\n",
      "............\n",
      "Max: 9\n",
      "Max: [9 7]\n",
      "Max: [6 2 7 9]\n",
      "[[2.44948974 0.         2.         3.        ]\n",
      " [2.23606798 1.41421356 2.64575131 1.        ]] ......Square root:\n"
     ]
    }
   ],
   "source": [
    "# arithmatic function on 2D array\n",
    "# Note: axis-0: for columns, axis-1: for rows\n",
    "\n",
    "arr=np.array([[6,0,4,9],   # -> rows \n",
    "              [5,2,7,1]])  # ^columns\n",
    "\n",
    "print('Min:',np.min(arr))\n",
    "print('Min:',np.min(arr,axis=1))       # min along rows\n",
    "print('Min:',np.min(arr,axis=0))       # min along columns\n",
    "print('............')\n",
    "print('Max:',np.max(arr))\n",
    "print('Max:',np.max(arr,axis=1))       # max along rows\n",
    "print('Max:',np.max(arr,axis=0))       # max along columns\n",
    "\n",
    "print(np.sqrt(arr),'......Square root:')"
   ]
  },
  {
   "cell_type": "code",
   "execution_count": null,
   "id": "ce6fdb23",
   "metadata": {},
   "outputs": [],
   "source": []
  },
  {
   "cell_type": "code",
   "execution_count": null,
   "id": "c5ffddd7",
   "metadata": {},
   "outputs": [],
   "source": []
  }
 ],
 "metadata": {
  "kernelspec": {
   "display_name": "Python 3 (ipykernel)",
   "language": "python",
   "name": "python3"
  },
  "language_info": {
   "codemirror_mode": {
    "name": "ipython",
    "version": 3
   },
   "file_extension": ".py",
   "mimetype": "text/x-python",
   "name": "python",
   "nbconvert_exporter": "python",
   "pygments_lexer": "ipython3",
   "version": "3.10.8"
  }
 },
 "nbformat": 4,
 "nbformat_minor": 5
}
