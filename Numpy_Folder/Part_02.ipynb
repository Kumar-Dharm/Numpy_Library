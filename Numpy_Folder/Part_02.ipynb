{
 "cells": [
  {
   "cell_type": "markdown",
   "id": "d5ec5bc6",
   "metadata": {},
   "source": [
    "### Numpy lec-02: Array Types, Dimension & Creation"
   ]
  },
  {
   "cell_type": "code",
   "execution_count": 1,
   "id": "ed7e45cb",
   "metadata": {},
   "outputs": [],
   "source": [
    "import numpy as np"
   ]
  },
  {
   "cell_type": "code",
   "execution_count": null,
   "id": "94f892d3",
   "metadata": {},
   "outputs": [],
   "source": [
    "# Array\n",
    "Docstring: array(object,dtype=None, *,copy=True,order='K',subok=False,ndmin=0,like=None)\n",
    "    \n",
    "create_array-> '# syntax: np.array()"
   ]
  },
  {
   "cell_type": "code",
   "execution_count": 2,
   "id": "0340bb2c",
   "metadata": {},
   "outputs": [
    {
     "name": "stdout",
     "output_type": "stream",
     "text": [
      "[1 2 3 4] <class 'numpy.ndarray'>\n"
     ]
    },
    {
     "data": {
      "text/plain": [
       "array([1, 2, 3, 4])"
      ]
     },
     "execution_count": 2,
     "metadata": {},
     "output_type": "execute_result"
    }
   ],
   "source": [
    "# Creating Numpy arrays\n",
    "ls=[1,2,3,4]\n",
    "arr=np.array(ls)\n",
    "print(arr,type(arr))\n",
    "arr"
   ]
  },
  {
   "cell_type": "code",
   "execution_count": 3,
   "id": "0e7c9ae0",
   "metadata": {},
   "outputs": [
    {
     "name": "stdout",
     "output_type": "stream",
     "text": [
      "[0 1 2 3 4 5 6 7 8 9]\n",
      "Dimension: 1\n"
     ]
    }
   ],
   "source": [
    "l=[]\n",
    "for i in range(10):\n",
    "    l.append(i)\n",
    "arr=np.array(l)\n",
    "print(arr)\n",
    "print('Dimension:',arr.ndim)"
   ]
  },
  {
   "cell_type": "code",
   "execution_count": null,
   "id": "5e47f314",
   "metadata": {},
   "outputs": [],
   "source": [
    "# Types and Dimension of an array\n",
    "1D array: [~]\n",
    "2D array: [[~]]\n",
    "3D array: [[[~]]]\n",
    "    \n",
    "arr_dimension_check-> 'syntax: arr_name.ndim\n",
    "for_n-dimension array->  'use: ndmin=n"
   ]
  },
  {
   "cell_type": "code",
   "execution_count": 4,
   "id": "cfd30a7e",
   "metadata": {},
   "outputs": [
    {
     "name": "stdout",
     "output_type": "stream",
     "text": [
      "[1 2 3] dimension: 1\n",
      "..........\n",
      "[[1 2 3]\n",
      " [1 2 3]] dimension: 2\n",
      "..........\n",
      "[[[1 2 3]\n",
      "  [1 2 3]\n",
      "  [1 2 3]]] dimension: 3\n",
      "..........\n",
      "[[[[[1 2 3]]]]] dimension: 5\n"
     ]
    },
    {
     "data": {
      "text/plain": [
       "array([[[[[1, 2, 3]]]]])"
      ]
     },
     "execution_count": 4,
     "metadata": {},
     "output_type": "execute_result"
    }
   ],
   "source": [
    "# lets try this\n",
    "ar1=np.array([1,2,3])      # 1d array\n",
    "print(ar1,'dimension:',ar1.ndim)\n",
    "print('..........')\n",
    "\n",
    "ar2=np.array([[1,2,3],[1,2,3]])        # 2d array\n",
    "print(ar2,'dimension:',ar2.ndim)\n",
    "print('..........')\n",
    "\n",
    "ar3=np.array([[[1,2,3],[1,2,3],[1,2,3]]])       # 3d array\n",
    "print(ar3,'dimension:',ar3.ndim)\n",
    "print('..........')\n",
    "\n",
    "arn=np.array([1,2,3],ndmin=5)           # n-d array\n",
    "print(arn,'dimension:',arn.ndim)\n",
    "arn"
   ]
  },
  {
   "cell_type": "markdown",
   "id": "af4e5ac7",
   "metadata": {},
   "source": [
    "### Numpy lec-03: Special Array"
   ]
  },
  {
   "cell_type": "code",
   "execution_count": null,
   "id": "591f3c9c",
   "metadata": {},
   "outputs": [],
   "source": [
    "# Creating Numpy array using Numpy function\n",
    "# some special Numpy array\n",
    "                                    '# syntax:\n",
    "- Empty array                        np.empty(shape, dtype=float, order='C', *, like=None)\n",
    "- Array with 0s                      np.zeros(shape, dtype=float, order='C', *, like=None)\n",
    "- Array with 1s                      np.ones(shape, dtype=None, order='C', *, like=None)\n",
    "- Array with range of elements       np.arange([start,] stop[, step,], dtype=None, *, like=None)\n",
    "- Array diagonal elements having 1   np.eye(N, M=None, k=0, dtype=float, order='C', *, like=None)\n",
    "- Array filled with num=n            np.full(shape, fill_value, dtype=None, order='C', *, like=None)\n",
    "\n",
    "- Array with values that are spaced linearly in specified interval    '# np.linspace(start, stop, size)\n"
   ]
  },
  {
   "cell_type": "code",
   "execution_count": 5,
   "id": "769bf71b",
   "metadata": {},
   "outputs": [
    {
     "name": "stdout",
     "output_type": "stream",
     "text": [
      "[]\n"
     ]
    }
   ],
   "source": [
    "# Empty array -return new array without initializing entries\n",
    "import numpy as np\n",
    "ar_emp=np.empty(0)\n",
    "print(ar_emp)"
   ]
  },
  {
   "cell_type": "code",
   "execution_count": 6,
   "id": "a2fe8aa9",
   "metadata": {},
   "outputs": [
    {
     "name": "stdout",
     "output_type": "stream",
     "text": [
      "[0. 0. 0. 0.]\n",
      "[[0. 0. 0. 0.]\n",
      " [0. 0. 0. 0.]\n",
      " [0. 0. 0. 0.]]\n"
     ]
    }
   ],
   "source": [
    "# Array with 0's -return new array filled with zeros\n",
    "ar_zero=np.zeros(4)\n",
    "ar_zero1=np.zeros((3,4))\n",
    "print(ar_zero)\n",
    "print(ar_zero1)"
   ]
  },
  {
   "cell_type": "code",
   "execution_count": 7,
   "id": "6ea7dd1d",
   "metadata": {},
   "outputs": [
    {
     "name": "stdout",
     "output_type": "stream",
     "text": [
      "[1. 1. 1. 1.]\n",
      "[[1. 1. 1. 1.]\n",
      " [1. 1. 1. 1.]\n",
      " [1. 1. 1. 1.]]\n"
     ]
    }
   ],
   "source": [
    "# Array with 1's -return new array of given shape and type, filled with ones\n",
    "ar_one=np.ones(4)\n",
    "ar_one1=np.ones((3,4))\n",
    "print(ar_one)\n",
    "print(ar_one1)"
   ]
  },
  {
   "cell_type": "code",
   "execution_count": 7,
   "id": "e0168b8a",
   "metadata": {},
   "outputs": [
    {
     "name": "stdout",
     "output_type": "stream",
     "text": [
      "[0 1 2 3]\n"
     ]
    }
   ],
   "source": [
    "# Array with range of elements -return evenly spaced values within a given interval\n",
    "ar_rn=np.arange(4)\n",
    "print(ar_rn)"
   ]
  },
  {
   "cell_type": "code",
   "execution_count": 8,
   "id": "9c266e97",
   "metadata": {},
   "outputs": [
    {
     "name": "stdout",
     "output_type": "stream",
     "text": [
      "[[1. 0. 0. 0.]\n",
      " [0. 1. 0. 0.]\n",
      " [0. 0. 1. 0.]\n",
      " [0. 0. 0. 1.]]\n"
     ]
    }
   ],
   "source": [
    "# Array diagonal elements having 1 -Return a 2-D array with ones on the diagonal and zeros elsewhere.\n",
    "ar_dia=np.eye(4)\n",
    "print(ar_dia)"
   ]
  },
  {
   "cell_type": "code",
   "execution_count": 9,
   "id": "2f0d340f",
   "metadata": {},
   "outputs": [
    {
     "name": "stdout",
     "output_type": "stream",
     "text": [
      "[[5 5 5]\n",
      " [5 5 5]\n",
      " [5 5 5]]\n"
     ]
    }
   ],
   "source": [
    "# Array filled with num=n\n",
    "ar_full=np.full((3,3),5)\n",
    "print(ar_full)"
   ]
  },
  {
   "cell_type": "code",
   "execution_count": 10,
   "id": "fa4dba99",
   "metadata": {},
   "outputs": [
    {
     "name": "stdout",
     "output_type": "stream",
     "text": [
      "[ 0.  5. 10. 15. 20.]\n"
     ]
    }
   ],
   "source": [
    "# Array with values that are spaced linearly in specified interval\n",
    "arr=np.linspace(0,20,num=5)\n",
    "print(arr)"
   ]
  },
  {
   "cell_type": "markdown",
   "id": "39e92ab1",
   "metadata": {},
   "source": [
    "### Numpy lec-04: Random Function"
   ]
  },
  {
   "cell_type": "code",
   "execution_count": null,
   "id": "c24f5df6",
   "metadata": {},
   "outputs": [],
   "source": [
    "# Creating Numpy array with Random numbers\n",
    "# Note: we call this f*n using random module\n",
    "- rand()      \n",
    "    '# np.random.rand(d0, d1, ..., dn)   -d0,d1,d2... takes to dimension\n",
    "    -used to generate a random value between 0 and 1\n",
    "- randn()\n",
    "    '# np.random.randn(d0, d1, ..., dn)     -d0,d1,d2... takes to dimension\n",
    "    -used to generate a random value close to 0\n",
    "    -gives both +ve or -ve number\n",
    "- ranf()\n",
    "    '# np.random.ranf(num)\n",
    "    -it is an alias of random_sample\n",
    "    -used for doing random sampling in numpy\n",
    "    -returns array of specified shape\n",
    "    -fills random floats in the half open interval[0.0,1.0)\n",
    "- randint()\n",
    "    '# np.random.randint(low, high=None, size=None, dtype=int)                                             \n",
    "    -used to generate random number in a given range"
   ]
  },
  {
   "cell_type": "code",
   "execution_count": 11,
   "id": "4aad6ca5",
   "metadata": {},
   "outputs": [
    {
     "name": "stdout",
     "output_type": "stream",
     "text": [
      "[0.00757526 0.2243544  0.07991993]\n",
      "[[0.76519746 0.80622093 0.70165268]\n",
      " [0.63558196 0.47447487 0.10424133]]\n"
     ]
    }
   ],
   "source": [
    "# lets try this\n",
    "# rand()\n",
    "import numpy as np\n",
    "ar1=np.random.rand(3)     # 1d array\n",
    "print(ar1)\n",
    "ar2=np.random.rand(2,3)   # 2d array\n",
    "print(ar2)"
   ]
  },
  {
   "cell_type": "code",
   "execution_count": 12,
   "id": "11b6b80b",
   "metadata": {},
   "outputs": [
    {
     "name": "stdout",
     "output_type": "stream",
     "text": [
      "[-0.42279909 -1.87911395 -0.43639073]\n",
      "[[0.06017208 0.66269554 0.57302833]\n",
      " [1.00631191 0.19572412 1.43131402]]\n"
     ]
    }
   ],
   "source": [
    "# randn()\n",
    "ar1=np.random.randn(3)        # 1d array\n",
    "print(ar1)\n",
    "ar2=np.random.randn(2,3)      # 2d array\n",
    "print(ar2)"
   ]
  },
  {
   "cell_type": "code",
   "execution_count": 13,
   "id": "0ede7d7f",
   "metadata": {},
   "outputs": [
    {
     "name": "stdout",
     "output_type": "stream",
     "text": [
      "[0.07526514 0.20592948 0.03935357]\n"
     ]
    }
   ],
   "source": [
    "# ranf()\n",
    "ar1=np.random.ranf(3)     \n",
    "print(ar1)"
   ]
  },
  {
   "cell_type": "code",
   "execution_count": 14,
   "id": "74c9f966",
   "metadata": {},
   "outputs": [
    {
     "name": "stdout",
     "output_type": "stream",
     "text": [
      "0\n",
      "3\n",
      "[6 4 1 6]\n"
     ]
    }
   ],
   "source": [
    "# randint()\n",
    "ar1=np.random.randint(1)     \n",
    "print(ar1)\n",
    "ar2=np.random.randint(1,5)     \n",
    "print(ar2)\n",
    "ar3=np.random.randint(1,10,4)     \n",
    "print(ar3)"
   ]
  },
  {
   "cell_type": "code",
   "execution_count": null,
   "id": "efcc14c2",
   "metadata": {},
   "outputs": [],
   "source": []
  },
  {
   "cell_type": "code",
   "execution_count": null,
   "id": "616baa43",
   "metadata": {},
   "outputs": [],
   "source": []
  }
 ],
 "metadata": {
  "kernelspec": {
   "display_name": "Python 3 (ipykernel)",
   "language": "python",
   "name": "python3"
  },
  "language_info": {
   "codemirror_mode": {
    "name": "ipython",
    "version": 3
   },
   "file_extension": ".py",
   "mimetype": "text/x-python",
   "name": "python",
   "nbconvert_exporter": "python",
   "pygments_lexer": "ipython3",
   "version": "3.10.8"
  }
 },
 "nbformat": 4,
 "nbformat_minor": 5
}
